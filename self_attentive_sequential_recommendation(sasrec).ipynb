{
 "cells": [
  {
   "cell_type": "markdown",
   "id": "4e5b6975",
   "metadata": {},
   "source": [
    "# Self-Attentive Sequential Recommendation([SASRec](https://arxiv.org/pdf/1808.09781.pdf))\n",
    "\n"
   ]
  },
  {
   "cell_type": "markdown",
   "id": "e7853e0c",
   "metadata": {},
   "source": [
    "  "
   ]
  },
  {
   "cell_type": "markdown",
   "id": "47df2c4b",
   "metadata": {},
   "source": [
    "### class 관계\n",
    "\n",
    "* [AbstractRecommender](https://github.com/RUCAIBox/RecBole/blob/master/recbole/model/abstract_recommender.py#L25)  \n",
    "    * [SequentialRecommender](https://github.com/RUCAIBox/RecBole/blob/master/recbole/model/abstract_recommender.py#L146)\n",
    "        * [SASRec](https://github.com/RUCAIBox/RecBole/blob/master/recbole/model/sequential_recommender/sasrec.py)\n",
    "            * [TransformerEncoder](https://github.com/RUCAIBox/RecBole/blob/master/recbole/model/layers.py#L572)\n",
    "                * [TransformerLayer](https://github.com/RUCAIBox/RecBole/blob/master/recbole/model/layers.py#L530)\n",
    "                    * [MultiHeadAttention](https://github.com/RUCAIBox/RecBole/blob/master/recbole/model/layers.py#L385)\n",
    "                    * [FeedForward](https://github.com/RUCAIBox/RecBole/blob/master/recbole/model/layers.py#L472)\n",
    "                    \n",
    "### 그림 참고\n",
    "* [딥러닝을 이용한 자연어처리 입문](https://wikidocs.net/31379)"
   ]
  },
  {
   "cell_type": "markdown",
   "id": "882fd13e",
   "metadata": {},
   "source": [
    "### Recbole SASRec 코드실행 예시([참고](https://github.com/RUCAIBox/RecBole/blob/master/run_example/sequential-model-fixed-missing-last-item.ipynb))\n",
    "\n",
    "    "
   ]
  },
  {
   "cell_type": "code",
   "execution_count": 3,
   "id": "c4109605",
   "metadata": {},
   "outputs": [],
   "source": [
    "# Recbole SASRec 코드실행 예시 \n",
    "\n",
    "# 1. config \n",
    "from recbole.config import Config\n",
    "parameter_dict = {\n",
    "    'data_path': './data',\n",
    "    'USER_ID_FIELD': 'user_id',\n",
    "    'ITEM_ID_FIELD': 'item_id',\n",
    "    'TIME_FIELD': 'timestamp',\n",
    "    'user_inter_num_interval': \"[30,inf)\",\n",
    "    'item_inter_num_interval': \"[40,inf)\",\n",
    "    'load_col': {'inter': ['user_id', 'item_id', 'timestamp']},\n",
    "    'train_neg_sample_args': None,\n",
    "    'epochs': 1,\n",
    "    'eval_args': {\n",
    "        'split': {'RS': [10, 0, 0]},\n",
    "        'group_by': 'user',\n",
    "        'order': 'TO',\n",
    "        'mode': 'full'}\n",
    "}\n",
    "config = Config(model='SASRec', dataset='recbox_data', config_dict=parameter_dict) \n",
    "\n",
    "# 2. dataset \n",
    "from recbole.data import create_dataset, data_preparation\n",
    "dataset = create_dataset(config)\n",
    "train_data, valid_data, test_data = data_preparation(config, dataset)\n",
    "\n",
    "# 3. model\n",
    "from recbole.model.sequential_recommender import SASRec\n",
    "model = SASRec(config, train_data.dataset).to(config['device']) \n",
    "\n",
    "# 4. training \n",
    "from recbole.trainer import Trainer\n",
    "trainer = Trainer(config, model)\n",
    "best_valid_score, best_valid_result = trainer.fit(train_data)"
   ]
  },
  {
   "cell_type": "code",
   "execution_count": null,
   "id": "ffe205f1",
   "metadata": {},
   "outputs": [],
   "source": []
  },
  {
   "cell_type": "markdown",
   "id": "1ac3a8aa",
   "metadata": {},
   "source": [
    "### train data 예시([참고](https://github.com/RUCAIBox/RecBole/blob/master/recbole/trainer/trainer.py#L234))"
   ]
  },
  {
   "cell_type": "code",
   "execution_count": 4,
   "id": "6faccf3c",
   "metadata": {},
   "outputs": [],
   "source": [
    "for batch_idx, batch_data in enumerate(train_data):\n",
    "    batch_idx = batch_idx\n",
    "    interaction = batch_data\n",
    "    break\n",
    "\n",
    "USER_ID = 'user_id'\n",
    "POS_ITEM_ID = 'item_id'\n",
    "ITEM_SEQ = 'item_id_list'\n",
    "ITEM_SEQ_LEN = 'item_length'\n",
    "\n",
    "user_seq = interaction[USER_ID] \n",
    "item_seq = interaction[ITEM_SEQ]         \n",
    "item_seq_len = interaction[ITEM_SEQ_LEN] "
   ]
  },
  {
   "cell_type": "code",
   "execution_count": 5,
   "id": "59b92b16",
   "metadata": {},
   "outputs": [
    {
     "data": {
      "text/plain": [
       "tensor([ 8681,  4622, 22968,  ..., 30080, 19206,   759])"
      ]
     },
     "execution_count": 5,
     "metadata": {},
     "output_type": "execute_result"
    }
   ],
   "source": [
    "user_seq # torch.Size([2048])"
   ]
  },
  {
   "cell_type": "code",
   "execution_count": 9,
   "id": "cf6db6eb",
   "metadata": {},
   "outputs": [
    {
     "data": {
      "text/plain": [
       "tensor([[ 1868,   266,  2206,  ...,     0,     0,     0],\n",
       "        [ 2549,  2549,    60,  ...,     0,     0,     0],\n",
       "        [ 1017,   522,   265,  ...,     0,     0,     0],\n",
       "        ...,\n",
       "        [ 4208,   818,  6991,  ...,     0,     0,     0],\n",
       "        [ 3813,  4103,  4103,  ...,  9211, 10242,   265],\n",
       "        [  181,  1299,  1076,  ...,     0,     0,     0]])"
      ]
     },
     "execution_count": 9,
     "metadata": {},
     "output_type": "execute_result"
    }
   ],
   "source": [
    "item_seq # torch.Size([2048, 50])"
   ]
  },
  {
   "cell_type": "code",
   "execution_count": 10,
   "id": "27ef9b74",
   "metadata": {},
   "outputs": [
    {
     "data": {
      "text/plain": [
       "tensor([ 7, 26, 13,  ..., 39, 50,  7])"
      ]
     },
     "execution_count": 10,
     "metadata": {},
     "output_type": "execute_result"
    }
   ],
   "source": [
    "item_seq_len # torch.Size([2048])"
   ]
  },
  {
   "cell_type": "code",
   "execution_count": null,
   "id": "0c8196a1",
   "metadata": {},
   "outputs": [],
   "source": []
  },
  {
   "cell_type": "markdown",
   "id": "9eb6230e",
   "metadata": {},
   "source": [
    "* 유저 8681 학습데이터 예시"
   ]
  },
  {
   "cell_type": "code",
   "execution_count": 12,
   "id": "54fffc1d",
   "metadata": {},
   "outputs": [
    {
     "data": {
      "text/plain": [
       "The batch_size of interaction: 39\n",
       "    user_id, torch.Size([39]), cpu, torch.int64\n",
       "    item_id, torch.Size([39]), cpu, torch.int64\n",
       "    timestamp, torch.Size([39]), cpu, torch.float32\n",
       "    item_length, torch.Size([39]), cpu, torch.int64\n",
       "    item_id_list, torch.Size([39, 50]), cpu, torch.int64\n",
       "    timestamp_list, torch.Size([39, 50]), cpu, torch.float32\n"
      ]
     },
     "execution_count": 12,
     "metadata": {},
     "output_type": "execute_result"
    }
   ],
   "source": [
    "import numpy as np\n",
    "import pandas as pd\n",
    "\n",
    "uid = train_data.dataset.id2token(train_data.dataset.uid_field, [8681])[0]\n",
    "index = np.isin(train_data.dataset[ train_data.dataset.uid_field].numpy(), 8681) \n",
    "\n",
    "user_interaction = train_data.dataset[index]\n",
    "user_interaction\n",
    "\n",
    "# df = pd.read_csv('./data/recbox_data/recbox_data.inter', sep='\\t')\n",
    "# ex = df[df['user_id:token'] == uid] # 유저 8681의 로그는 총 42개 (이중 39개가 train data로 사용)"
   ]
  },
  {
   "cell_type": "code",
   "execution_count": 15,
   "id": "745859ba",
   "metadata": {},
   "outputs": [
    {
     "data": {
      "text/plain": [
       "tensor([8681, 8681, 8681, 8681, 8681, 8681, 8681, 8681, 8681, 8681, 8681, 8681,\n",
       "        8681, 8681, 8681, 8681, 8681, 8681, 8681, 8681, 8681, 8681, 8681, 8681,\n",
       "        8681, 8681, 8681, 8681, 8681, 8681, 8681, 8681, 8681, 8681, 8681, 8681,\n",
       "        8681, 8681, 8681])"
      ]
     },
     "execution_count": 15,
     "metadata": {},
     "output_type": "execute_result"
    }
   ],
   "source": [
    "user_interaction[USER_ID] # torch.Size([39])"
   ]
  },
  {
   "cell_type": "code",
   "execution_count": 18,
   "id": "a8ec5d34",
   "metadata": {},
   "outputs": [
    {
     "data": {
      "text/plain": [
       "tensor([[1868,    0,    0,  ...,    0,    0,    0],\n",
       "        [1868,  266,    0,  ...,    0,    0,    0],\n",
       "        [1868,  266, 2206,  ...,    0,    0,    0],\n",
       "        ...,\n",
       "        [1868,  266, 2206,  ...,    0,    0,    0],\n",
       "        [1868,  266, 2206,  ...,    0,    0,    0],\n",
       "        [1868,  266, 2206,  ...,    0,    0,    0]])"
      ]
     },
     "execution_count": 18,
     "metadata": {},
     "output_type": "execute_result"
    }
   ],
   "source": [
    "# x\n",
    "user_interaction[ITEM_SEQ] # torch.Size([39, 50]) max sequence length = 50"
   ]
  },
  {
   "cell_type": "code",
   "execution_count": 21,
   "id": "35ba7737",
   "metadata": {},
   "outputs": [
    {
     "data": {
      "text/plain": [
       "tensor([ 1868,   266,  2206,  2488,   439,  6038,  5231,  5693,    39,  6429,\n",
       "         1234,  5944,  3629,   173,  8296,  7010,  6897,  6897,   106,  3858,\n",
       "         3858,  1196,   643,  5705,  4854,  7869,  8703,  3170,  9258,  9774,\n",
       "         9362, 10102, 10440, 10334,  8651, 10242,  6997, 10610, 10465,     0,\n",
       "            0,     0,     0,     0,     0,     0,     0,     0,     0,     0])"
      ]
     },
     "execution_count": 21,
     "metadata": {},
     "output_type": "execute_result"
    }
   ],
   "source": [
    "user_interaction[ITEM_SEQ][-1] "
   ]
  },
  {
   "cell_type": "code",
   "execution_count": 23,
   "id": "3871d799",
   "metadata": {},
   "outputs": [
    {
     "data": {
      "text/plain": [
       "tensor([  266,  2206,  2488,   439,  6038,  5231,  5693,    39,  6429,  1234,\n",
       "         5944,  3629,   173,  8296,  7010,  6897,  6897,   106,  3858,  3858,\n",
       "         1196,   643,  5705,  4854,  7869,  8703,  3170,  9258,  9774,  9362,\n",
       "        10102, 10440, 10334,  8651, 10242,  6997, 10610, 10465,  2939])"
      ]
     },
     "execution_count": 23,
     "metadata": {},
     "output_type": "execute_result"
    }
   ],
   "source": [
    "# y(label)\n",
    "user_interaction[POS_ITEM_ID] # torch.Size([39])"
   ]
  },
  {
   "cell_type": "code",
   "execution_count": 24,
   "id": "27e9db33",
   "metadata": {},
   "outputs": [
    {
     "data": {
      "text/plain": [
       "tensor([ 1,  2,  3,  4,  5,  6,  7,  8,  9, 10, 11, 12, 13, 14, 15, 16, 17, 18,\n",
       "        19, 20, 21, 22, 23, 24, 25, 26, 27, 28, 29, 30, 31, 32, 33, 34, 35, 36,\n",
       "        37, 38, 39])"
      ]
     },
     "execution_count": 24,
     "metadata": {},
     "output_type": "execute_result"
    }
   ],
   "source": [
    "user_interaction[ITEM_SEQ_LEN] # torch.Size([39])"
   ]
  },
  {
   "cell_type": "code",
   "execution_count": null,
   "id": "44d2319a",
   "metadata": {},
   "outputs": [],
   "source": []
  },
  {
   "cell_type": "markdown",
   "id": "a95a1a82",
   "metadata": {},
   "source": [
    "### SequentialRecommender class\n",
    "* [code](https://github.com/RUCAIBox/RecBole/blob/master/recbole/model/abstract_recommender.py#L146)"
   ]
  },
  {
   "cell_type": "code",
   "execution_count": 65,
   "id": "194d4dc5",
   "metadata": {},
   "outputs": [],
   "source": [
    "import torch\n",
    "import torch.nn as nn"
   ]
  },
  {
   "cell_type": "code",
   "execution_count": null,
   "id": "638ba8f5",
   "metadata": {},
   "outputs": [],
   "source": [
    "class SequentialRecommender(AbstractRecommender):\n",
    "    \"\"\"\n",
    "    This is a abstract sequential recommender. All the sequential model should implement This class.\n",
    "    \"\"\"\n",
    "    type = ModelType.SEQUENTIAL\n"
   ]
  },
  {
   "cell_type": "markdown",
   "id": "1dd7a9d7",
   "metadata": {},
   "source": [
    "```python\n",
    "def __init__(self, config, dataset):\n",
    "        super(SequentialRecommender, self).__init__()\n",
    "\n",
    "        # load dataset info\n",
    "        self.USER_ID = config[\"USER_ID_FIELD\"]\n",
    "        self.ITEM_ID = config[\"ITEM_ID_FIELD\"]\n",
    "        self.ITEM_SEQ = self.ITEM_ID + config[\"LIST_SUFFIX\"]\n",
    "        self.ITEM_SEQ_LEN = config[\"ITEM_LIST_LENGTH_FIELD\"]\n",
    "        self.POS_ITEM_ID = self.ITEM_ID\n",
    "        self.NEG_ITEM_ID = config[\"NEG_PREFIX\"] + self.ITEM_ID\n",
    "        self.max_seq_length = config[\"MAX_ITEM_LIST_LENGTH\"]\n",
    "        self.n_items = dataset.num(self.ITEM_ID)\n",
    "\n",
    "        # load parameters info\n",
    "        self.device = config[\"device\"]\n",
    "```"
   ]
  },
  {
   "cell_type": "code",
   "execution_count": 25,
   "id": "24b0cccf",
   "metadata": {},
   "outputs": [
    {
     "name": "stdout",
     "output_type": "stream",
     "text": [
      "USER_ID: user_id\n",
      "ITEM_ID: item_id\n",
      "ITEM_SEQ: item_id_list\n",
      "ITEM_SEQ_LEN: item_length\n",
      "POS_ITEM_ID: item_id\n",
      "NEG_ITEM_ID: neg_item_id\n",
      "max_seq_length: 50\n",
      "n_items: 10962\n",
      "device: cpu\n"
     ]
    }
   ],
   "source": [
    "# load dataset info\n",
    "USER_ID = config[\"USER_ID_FIELD\"] \n",
    "ITEM_ID = config[\"ITEM_ID_FIELD\"]  \n",
    "ITEM_SEQ = ITEM_ID + config[\"LIST_SUFFIX\"]\n",
    "ITEM_SEQ_LEN = config[\"ITEM_LIST_LENGTH_FIELD\"]\n",
    "\n",
    "POS_ITEM_ID = ITEM_ID\n",
    "NEG_ITEM_ID = config[\"NEG_PREFIX\"] + ITEM_ID\n",
    "\n",
    "max_seq_length = config[\"MAX_ITEM_LIST_LENGTH\"]\n",
    "n_items = dataset.num(ITEM_ID)\n",
    "\n",
    "# load parameters info\n",
    "device = config[\"device\"]\n",
    "\n",
    "print('USER_ID:', USER_ID)\n",
    "print('ITEM_ID:', ITEM_ID)\n",
    "print('ITEM_SEQ:', ITEM_SEQ)\n",
    "print('ITEM_SEQ_LEN:', ITEM_SEQ_LEN)\n",
    "print('POS_ITEM_ID:', POS_ITEM_ID)\n",
    "print('NEG_ITEM_ID:', NEG_ITEM_ID)\n",
    "print('max_seq_length:', max_seq_length)\n",
    "print('n_items:', n_items)\n",
    "print('device:', device)"
   ]
  },
  {
   "cell_type": "code",
   "execution_count": null,
   "id": "40d46f8c",
   "metadata": {},
   "outputs": [],
   "source": []
  },
  {
   "cell_type": "markdown",
   "id": "d810fa82",
   "metadata": {},
   "source": [
    "```python\n",
    " def get_attention_mask(self, item_seq, bidirectional=False):\n",
    "        \"\"\"Generate left-to-right uni-directional or bidirectional attention mask for multi-head attention.\"\"\"\n",
    "        attention_mask = item_seq != 0\n",
    "        extended_attention_mask = attention_mask.unsqueeze(1).unsqueeze(2)  # torch.bool\n",
    "        if not bidirectional:\n",
    "            extended_attention_mask = torch.tril(\n",
    "                extended_attention_mask.expand((-1, -1, item_seq.size(-1), -1))\n",
    "            )\n",
    "        extended_attention_mask = torch.where(extended_attention_mask, 0.0, -10000.0)\n",
    "        return extended_attention_mask\n",
    "    \n",
    "```"
   ]
  },
  {
   "cell_type": "code",
   "execution_count": 26,
   "id": "5e6a5ad5",
   "metadata": {},
   "outputs": [
    {
     "data": {
      "text/plain": [
       "tensor([[ 1868,   266,  2206,  ...,     0,     0,     0],\n",
       "        [ 2549,  2549,    60,  ...,     0,     0,     0],\n",
       "        [ 1017,   522,   265,  ...,     0,     0,     0],\n",
       "        ...,\n",
       "        [ 4208,   818,  6991,  ...,     0,     0,     0],\n",
       "        [ 3813,  4103,  4103,  ...,  9211, 10242,   265],\n",
       "        [  181,  1299,  1076,  ...,     0,     0,     0]])"
      ]
     },
     "execution_count": 26,
     "metadata": {},
     "output_type": "execute_result"
    }
   ],
   "source": [
    "# input \n",
    "item_seq  # torch.Size([2048, 50])"
   ]
  },
  {
   "cell_type": "code",
   "execution_count": 27,
   "id": "badde40a",
   "metadata": {},
   "outputs": [
    {
     "data": {
      "text/plain": [
       "tensor([1868,  266, 2206, 2488,  439, 6038, 5231,    0,    0,    0,    0,    0,\n",
       "           0,    0,    0,    0,    0,    0,    0,    0,    0,    0,    0,    0,\n",
       "           0,    0,    0,    0,    0,    0,    0,    0,    0,    0,    0,    0,\n",
       "           0,    0,    0,    0,    0,    0,    0,    0,    0,    0,    0,    0,\n",
       "           0,    0])"
      ]
     },
     "execution_count": 27,
     "metadata": {},
     "output_type": "execute_result"
    }
   ],
   "source": [
    "item_seq[0]"
   ]
  },
  {
   "cell_type": "code",
   "execution_count": 28,
   "id": "3462a422",
   "metadata": {
    "scrolled": true
   },
   "outputs": [
    {
     "data": {
      "text/plain": [
       "tensor([[ True,  True,  True,  ..., False, False, False],\n",
       "        [ True,  True,  True,  ..., False, False, False],\n",
       "        [ True,  True,  True,  ..., False, False, False],\n",
       "        ...,\n",
       "        [ True,  True,  True,  ..., False, False, False],\n",
       "        [ True,  True,  True,  ...,  True,  True,  True],\n",
       "        [ True,  True,  True,  ..., False, False, False]])"
      ]
     },
     "execution_count": 28,
     "metadata": {},
     "output_type": "execute_result"
    }
   ],
   "source": [
    "attention_mask = item_seq != 0  # torch.Size([2048, 50])\n",
    "attention_mask "
   ]
  },
  {
   "cell_type": "code",
   "execution_count": 29,
   "id": "87919b84",
   "metadata": {},
   "outputs": [
    {
     "data": {
      "text/plain": [
       "tensor([ True,  True,  True,  True,  True,  True,  True, False, False, False,\n",
       "        False, False, False, False, False, False, False, False, False, False,\n",
       "        False, False, False, False, False, False, False, False, False, False,\n",
       "        False, False, False, False, False, False, False, False, False, False,\n",
       "        False, False, False, False, False, False, False, False, False, False])"
      ]
     },
     "execution_count": 29,
     "metadata": {},
     "output_type": "execute_result"
    }
   ],
   "source": [
    "attention_mask[0]"
   ]
  },
  {
   "cell_type": "code",
   "execution_count": 31,
   "id": "7c5b92fb",
   "metadata": {
    "scrolled": false
   },
   "outputs": [
    {
     "data": {
      "text/plain": [
       "tensor([[[[ True,  True,  True,  ..., False, False, False]]],\n",
       "\n",
       "\n",
       "        [[[ True,  True,  True,  ..., False, False, False]]],\n",
       "\n",
       "\n",
       "        [[[ True,  True,  True,  ..., False, False, False]]],\n",
       "\n",
       "\n",
       "        ...,\n",
       "\n",
       "\n",
       "        [[[ True,  True,  True,  ..., False, False, False]]],\n",
       "\n",
       "\n",
       "        [[[ True,  True,  True,  ...,  True,  True,  True]]],\n",
       "\n",
       "\n",
       "        [[[ True,  True,  True,  ..., False, False, False]]]])"
      ]
     },
     "execution_count": 31,
     "metadata": {},
     "output_type": "execute_result"
    }
   ],
   "source": [
    "extended_attention_mask = attention_mask.unsqueeze(1).unsqueeze(2) # torch.Size([2048, 1, 50]) -> torch.Size([2048, 1, 1, 50])\n",
    "extended_attention_mask"
   ]
  },
  {
   "cell_type": "code",
   "execution_count": null,
   "id": "cc29fa07",
   "metadata": {},
   "outputs": [],
   "source": [
    "bidirectional = False\n",
    "if not bidirectional:\n",
    "    tmp = extended_attention_mask.expand((-1, -1, item_seq.size(-1), -1)) # torch.Size([2048, 1, 50, 50])\n",
    "    extended_attention_mask = torch.tril(tmp)                             # torch.Size([2048, 1, 50, 50])"
   ]
  },
  {
   "cell_type": "code",
   "execution_count": 32,
   "id": "ac995424",
   "metadata": {
    "scrolled": true
   },
   "outputs": [
    {
     "data": {
      "text/plain": [
       "tensor([[[[ True,  True,  True,  ..., False, False, False],\n",
       "          [ True,  True,  True,  ..., False, False, False],\n",
       "          [ True,  True,  True,  ..., False, False, False],\n",
       "          ...,\n",
       "          [ True,  True,  True,  ..., False, False, False],\n",
       "          [ True,  True,  True,  ..., False, False, False],\n",
       "          [ True,  True,  True,  ..., False, False, False]]],\n",
       "\n",
       "\n",
       "        [[[ True,  True,  True,  ..., False, False, False],\n",
       "          [ True,  True,  True,  ..., False, False, False],\n",
       "          [ True,  True,  True,  ..., False, False, False],\n",
       "          ...,\n",
       "          [ True,  True,  True,  ..., False, False, False],\n",
       "          [ True,  True,  True,  ..., False, False, False],\n",
       "          [ True,  True,  True,  ..., False, False, False]]],\n",
       "\n",
       "\n",
       "        [[[ True,  True,  True,  ..., False, False, False],\n",
       "          [ True,  True,  True,  ..., False, False, False],\n",
       "          [ True,  True,  True,  ..., False, False, False],\n",
       "          ...,\n",
       "          [ True,  True,  True,  ..., False, False, False],\n",
       "          [ True,  True,  True,  ..., False, False, False],\n",
       "          [ True,  True,  True,  ..., False, False, False]]],\n",
       "\n",
       "\n",
       "        ...,\n",
       "\n",
       "\n",
       "        [[[ True,  True,  True,  ..., False, False, False],\n",
       "          [ True,  True,  True,  ..., False, False, False],\n",
       "          [ True,  True,  True,  ..., False, False, False],\n",
       "          ...,\n",
       "          [ True,  True,  True,  ..., False, False, False],\n",
       "          [ True,  True,  True,  ..., False, False, False],\n",
       "          [ True,  True,  True,  ..., False, False, False]]],\n",
       "\n",
       "\n",
       "        [[[ True,  True,  True,  ...,  True,  True,  True],\n",
       "          [ True,  True,  True,  ...,  True,  True,  True],\n",
       "          [ True,  True,  True,  ...,  True,  True,  True],\n",
       "          ...,\n",
       "          [ True,  True,  True,  ...,  True,  True,  True],\n",
       "          [ True,  True,  True,  ...,  True,  True,  True],\n",
       "          [ True,  True,  True,  ...,  True,  True,  True]]],\n",
       "\n",
       "\n",
       "        [[[ True,  True,  True,  ..., False, False, False],\n",
       "          [ True,  True,  True,  ..., False, False, False],\n",
       "          [ True,  True,  True,  ..., False, False, False],\n",
       "          ...,\n",
       "          [ True,  True,  True,  ..., False, False, False],\n",
       "          [ True,  True,  True,  ..., False, False, False],\n",
       "          [ True,  True,  True,  ..., False, False, False]]]])"
      ]
     },
     "execution_count": 32,
     "metadata": {},
     "output_type": "execute_result"
    }
   ],
   "source": [
    "tmp = extended_attention_mask.expand((-1, -1, item_seq.size(-1), -1)) # torch.Size([2048, 1, 50, 50])\n",
    "tmp"
   ]
  },
  {
   "cell_type": "code",
   "execution_count": 33,
   "id": "9372ad07",
   "metadata": {},
   "outputs": [
    {
     "data": {
      "text/plain": [
       "tensor([[ True,  True,  True,  ..., False, False, False],\n",
       "        [ True,  True,  True,  ..., False, False, False],\n",
       "        [ True,  True,  True,  ..., False, False, False],\n",
       "        ...,\n",
       "        [ True,  True,  True,  ..., False, False, False],\n",
       "        [ True,  True,  True,  ..., False, False, False],\n",
       "        [ True,  True,  True,  ..., False, False, False]])"
      ]
     },
     "execution_count": 33,
     "metadata": {},
     "output_type": "execute_result"
    }
   ],
   "source": [
    "tmp[0][0] # # torch.Size([50, 50])"
   ]
  },
  {
   "cell_type": "code",
   "execution_count": 38,
   "id": "b1457772",
   "metadata": {
    "scrolled": true
   },
   "outputs": [
    {
     "data": {
      "text/plain": [
       "tensor([[[[ True, False, False,  ..., False, False, False],\n",
       "          [ True,  True, False,  ..., False, False, False],\n",
       "          [ True,  True,  True,  ..., False, False, False],\n",
       "          ...,\n",
       "          [ True,  True,  True,  ..., False, False, False],\n",
       "          [ True,  True,  True,  ..., False, False, False],\n",
       "          [ True,  True,  True,  ..., False, False, False]]],\n",
       "\n",
       "\n",
       "        [[[ True, False, False,  ..., False, False, False],\n",
       "          [ True,  True, False,  ..., False, False, False],\n",
       "          [ True,  True,  True,  ..., False, False, False],\n",
       "          ...,\n",
       "          [ True,  True,  True,  ..., False, False, False],\n",
       "          [ True,  True,  True,  ..., False, False, False],\n",
       "          [ True,  True,  True,  ..., False, False, False]]],\n",
       "\n",
       "\n",
       "        [[[ True, False, False,  ..., False, False, False],\n",
       "          [ True,  True, False,  ..., False, False, False],\n",
       "          [ True,  True,  True,  ..., False, False, False],\n",
       "          ...,\n",
       "          [ True,  True,  True,  ..., False, False, False],\n",
       "          [ True,  True,  True,  ..., False, False, False],\n",
       "          [ True,  True,  True,  ..., False, False, False]]],\n",
       "\n",
       "\n",
       "        ...,\n",
       "\n",
       "\n",
       "        [[[ True, False, False,  ..., False, False, False],\n",
       "          [ True,  True, False,  ..., False, False, False],\n",
       "          [ True,  True,  True,  ..., False, False, False],\n",
       "          ...,\n",
       "          [ True,  True,  True,  ..., False, False, False],\n",
       "          [ True,  True,  True,  ..., False, False, False],\n",
       "          [ True,  True,  True,  ..., False, False, False]]],\n",
       "\n",
       "\n",
       "        [[[ True, False, False,  ..., False, False, False],\n",
       "          [ True,  True, False,  ..., False, False, False],\n",
       "          [ True,  True,  True,  ..., False, False, False],\n",
       "          ...,\n",
       "          [ True,  True,  True,  ...,  True, False, False],\n",
       "          [ True,  True,  True,  ...,  True,  True, False],\n",
       "          [ True,  True,  True,  ...,  True,  True,  True]]],\n",
       "\n",
       "\n",
       "        [[[ True, False, False,  ..., False, False, False],\n",
       "          [ True,  True, False,  ..., False, False, False],\n",
       "          [ True,  True,  True,  ..., False, False, False],\n",
       "          ...,\n",
       "          [ True,  True,  True,  ..., False, False, False],\n",
       "          [ True,  True,  True,  ..., False, False, False],\n",
       "          [ True,  True,  True,  ..., False, False, False]]]])"
      ]
     },
     "execution_count": 38,
     "metadata": {},
     "output_type": "execute_result"
    }
   ],
   "source": [
    "extended_attention_mask = torch.tril(tmp) # torch.Size([2048, 1, 50, 50])\n",
    "extended_attention_mask"
   ]
  },
  {
   "cell_type": "code",
   "execution_count": 39,
   "id": "efe393d3",
   "metadata": {},
   "outputs": [
    {
     "data": {
      "text/plain": [
       "tensor([ True, False, False, False, False, False, False, False, False, False,\n",
       "        False, False, False, False, False, False, False, False, False, False,\n",
       "        False, False, False, False, False, False, False, False, False, False,\n",
       "        False, False, False, False, False, False, False, False, False, False,\n",
       "        False, False, False, False, False, False, False, False, False, False])"
      ]
     },
     "execution_count": 39,
     "metadata": {},
     "output_type": "execute_result"
    }
   ],
   "source": [
    "extended_attention_mask[0][0][0]"
   ]
  },
  {
   "cell_type": "code",
   "execution_count": 40,
   "id": "7ec21e06",
   "metadata": {},
   "outputs": [
    {
     "data": {
      "text/plain": [
       "tensor([ True,  True, False, False, False, False, False, False, False, False,\n",
       "        False, False, False, False, False, False, False, False, False, False,\n",
       "        False, False, False, False, False, False, False, False, False, False,\n",
       "        False, False, False, False, False, False, False, False, False, False,\n",
       "        False, False, False, False, False, False, False, False, False, False])"
      ]
     },
     "execution_count": 40,
     "metadata": {},
     "output_type": "execute_result"
    }
   ],
   "source": [
    "extended_attention_mask[0][0][1]"
   ]
  },
  {
   "cell_type": "code",
   "execution_count": 45,
   "id": "86748b10",
   "metadata": {},
   "outputs": [
    {
     "data": {
      "text/plain": [
       "tensor([ True,  True,  True,  True,  True,  True,  True, False, False, False,\n",
       "        False, False, False, False, False, False, False, False, False, False,\n",
       "        False, False, False, False, False, False, False, False, False, False,\n",
       "        False, False, False, False, False, False, False, False, False, False,\n",
       "        False, False, False, False, False, False, False, False, False, False])"
      ]
     },
     "execution_count": 45,
     "metadata": {},
     "output_type": "execute_result"
    }
   ],
   "source": [
    "extended_attention_mask[0][0][6]"
   ]
  },
  {
   "cell_type": "code",
   "execution_count": 46,
   "id": "5dcf5ae2",
   "metadata": {},
   "outputs": [
    {
     "data": {
      "text/plain": [
       "tensor([ True,  True,  True,  True,  True,  True,  True, False, False, False,\n",
       "        False, False, False, False, False, False, False, False, False, False,\n",
       "        False, False, False, False, False, False, False, False, False, False,\n",
       "        False, False, False, False, False, False, False, False, False, False,\n",
       "        False, False, False, False, False, False, False, False, False, False])"
      ]
     },
     "execution_count": 46,
     "metadata": {},
     "output_type": "execute_result"
    }
   ],
   "source": [
    "extended_attention_mask[0][0][7] # 7 ~ 49까지 동일 "
   ]
  },
  {
   "cell_type": "code",
   "execution_count": 47,
   "id": "9d060f9e",
   "metadata": {},
   "outputs": [
    {
     "data": {
      "text/plain": [
       "tensor([ True,  True,  True,  True,  True,  True,  True, False, False, False,\n",
       "        False, False, False, False, False, False, False, False, False, False,\n",
       "        False, False, False, False, False, False, False, False, False, False,\n",
       "        False, False, False, False, False, False, False, False, False, False,\n",
       "        False, False, False, False, False, False, False, False, False, False])"
      ]
     },
     "execution_count": 47,
     "metadata": {},
     "output_type": "execute_result"
    }
   ],
   "source": [
    "extended_attention_mask[0][0][49]"
   ]
  },
  {
   "cell_type": "code",
   "execution_count": 48,
   "id": "6bce3280",
   "metadata": {},
   "outputs": [],
   "source": [
    "extended_attention_mask = torch.where(extended_attention_mask, 0.0, -10000.0) # torch.Size([2048, 1, 50, 50])"
   ]
  },
  {
   "cell_type": "code",
   "execution_count": 49,
   "id": "7db30cb1",
   "metadata": {
    "scrolled": true
   },
   "outputs": [
    {
     "data": {
      "text/plain": [
       "tensor([[[[     0., -10000., -10000.,  ..., -10000., -10000., -10000.],\n",
       "          [     0.,      0., -10000.,  ..., -10000., -10000., -10000.],\n",
       "          [     0.,      0.,      0.,  ..., -10000., -10000., -10000.],\n",
       "          ...,\n",
       "          [     0.,      0.,      0.,  ..., -10000., -10000., -10000.],\n",
       "          [     0.,      0.,      0.,  ..., -10000., -10000., -10000.],\n",
       "          [     0.,      0.,      0.,  ..., -10000., -10000., -10000.]]],\n",
       "\n",
       "\n",
       "        [[[     0., -10000., -10000.,  ..., -10000., -10000., -10000.],\n",
       "          [     0.,      0., -10000.,  ..., -10000., -10000., -10000.],\n",
       "          [     0.,      0.,      0.,  ..., -10000., -10000., -10000.],\n",
       "          ...,\n",
       "          [     0.,      0.,      0.,  ..., -10000., -10000., -10000.],\n",
       "          [     0.,      0.,      0.,  ..., -10000., -10000., -10000.],\n",
       "          [     0.,      0.,      0.,  ..., -10000., -10000., -10000.]]],\n",
       "\n",
       "\n",
       "        [[[     0., -10000., -10000.,  ..., -10000., -10000., -10000.],\n",
       "          [     0.,      0., -10000.,  ..., -10000., -10000., -10000.],\n",
       "          [     0.,      0.,      0.,  ..., -10000., -10000., -10000.],\n",
       "          ...,\n",
       "          [     0.,      0.,      0.,  ..., -10000., -10000., -10000.],\n",
       "          [     0.,      0.,      0.,  ..., -10000., -10000., -10000.],\n",
       "          [     0.,      0.,      0.,  ..., -10000., -10000., -10000.]]],\n",
       "\n",
       "\n",
       "        ...,\n",
       "\n",
       "\n",
       "        [[[     0., -10000., -10000.,  ..., -10000., -10000., -10000.],\n",
       "          [     0.,      0., -10000.,  ..., -10000., -10000., -10000.],\n",
       "          [     0.,      0.,      0.,  ..., -10000., -10000., -10000.],\n",
       "          ...,\n",
       "          [     0.,      0.,      0.,  ..., -10000., -10000., -10000.],\n",
       "          [     0.,      0.,      0.,  ..., -10000., -10000., -10000.],\n",
       "          [     0.,      0.,      0.,  ..., -10000., -10000., -10000.]]],\n",
       "\n",
       "\n",
       "        [[[     0., -10000., -10000.,  ..., -10000., -10000., -10000.],\n",
       "          [     0.,      0., -10000.,  ..., -10000., -10000., -10000.],\n",
       "          [     0.,      0.,      0.,  ..., -10000., -10000., -10000.],\n",
       "          ...,\n",
       "          [     0.,      0.,      0.,  ...,      0., -10000., -10000.],\n",
       "          [     0.,      0.,      0.,  ...,      0.,      0., -10000.],\n",
       "          [     0.,      0.,      0.,  ...,      0.,      0.,      0.]]],\n",
       "\n",
       "\n",
       "        [[[     0., -10000., -10000.,  ..., -10000., -10000., -10000.],\n",
       "          [     0.,      0., -10000.,  ..., -10000., -10000., -10000.],\n",
       "          [     0.,      0.,      0.,  ..., -10000., -10000., -10000.],\n",
       "          ...,\n",
       "          [     0.,      0.,      0.,  ..., -10000., -10000., -10000.],\n",
       "          [     0.,      0.,      0.,  ..., -10000., -10000., -10000.],\n",
       "          [     0.,      0.,      0.,  ..., -10000., -10000., -10000.]]]])"
      ]
     },
     "execution_count": 49,
     "metadata": {},
     "output_type": "execute_result"
    }
   ],
   "source": [
    "extended_attention_mask"
   ]
  },
  {
   "cell_type": "code",
   "execution_count": null,
   "id": "b111b5e8",
   "metadata": {},
   "outputs": [],
   "source": []
  },
  {
   "cell_type": "markdown",
   "id": "c028a248",
   "metadata": {},
   "source": [
    "```python\n",
    " def gather_indexes(self, output, gather_index):\n",
    "        \"\"\"Gathers the vectors at the specific positions over a minibatch\"\"\"\n",
    "        gather_index = gather_index.view(-1, 1, 1).expand(-1, -1, output.shape[-1])\n",
    "        output_tensor = output.gather(dim=1, index=gather_index)\n",
    "        return output_tensor.squeeze(1)\n",
    "```"
   ]
  },
  {
   "cell_type": "code",
   "execution_count": 52,
   "id": "c4a7575a",
   "metadata": {},
   "outputs": [],
   "source": [
    "# input \n",
    "output = torch.rand([2048, 50, 64]) # output 예시\n",
    "gather_index = item_seq_len - 1     # torch.Size([2048])"
   ]
  },
  {
   "cell_type": "code",
   "execution_count": 53,
   "id": "69384345",
   "metadata": {},
   "outputs": [
    {
     "data": {
      "text/plain": [
       "tensor([ 6, 25, 12,  ..., 38, 49,  6])"
      ]
     },
     "execution_count": 53,
     "metadata": {},
     "output_type": "execute_result"
    }
   ],
   "source": [
    "gather_index"
   ]
  },
  {
   "cell_type": "code",
   "execution_count": 54,
   "id": "e2e668c2",
   "metadata": {},
   "outputs": [
    {
     "data": {
      "text/plain": [
       "tensor([[[ 6,  6,  6,  ...,  6,  6,  6]],\n",
       "\n",
       "        [[25, 25, 25,  ..., 25, 25, 25]],\n",
       "\n",
       "        [[12, 12, 12,  ..., 12, 12, 12]],\n",
       "\n",
       "        ...,\n",
       "\n",
       "        [[38, 38, 38,  ..., 38, 38, 38]],\n",
       "\n",
       "        [[49, 49, 49,  ..., 49, 49, 49]],\n",
       "\n",
       "        [[ 6,  6,  6,  ...,  6,  6,  6]]])"
      ]
     },
     "execution_count": 54,
     "metadata": {},
     "output_type": "execute_result"
    }
   ],
   "source": [
    "gather_index = gather_index.view(-1, 1, 1).expand(-1, -1, output.shape[-1]) # torch.Size([2048, 1, 1]) -> [2048, 1, 64]\n",
    "gather_index"
   ]
  },
  {
   "cell_type": "code",
   "execution_count": 55,
   "id": "821f76f5",
   "metadata": {},
   "outputs": [],
   "source": [
    "output_tensor = output.gather(dim=1, index=gather_index) # torch.Size([2048, 1, 64])\n",
    "\n",
    "# output[0][6]\n",
    "# output[1][25]\n",
    "# ...\n",
    "# output[2047][6]"
   ]
  },
  {
   "cell_type": "code",
   "execution_count": 56,
   "id": "01417fc6",
   "metadata": {},
   "outputs": [
    {
     "data": {
      "text/plain": [
       "tensor([[[0.0320, 0.4300, 0.1542,  ..., 0.1900, 0.8480, 0.5424]],\n",
       "\n",
       "        [[0.3069, 0.4541, 0.0528,  ..., 0.8476, 0.6264, 0.6698]],\n",
       "\n",
       "        [[0.0131, 0.2552, 0.2702,  ..., 0.0176, 0.9185, 0.1752]],\n",
       "\n",
       "        ...,\n",
       "\n",
       "        [[0.7754, 0.5159, 0.2408,  ..., 0.2827, 0.5453, 0.8278]],\n",
       "\n",
       "        [[0.8666, 0.7152, 0.2644,  ..., 0.1230, 0.5616, 0.8798]],\n",
       "\n",
       "        [[0.6902, 0.2934, 0.7709,  ..., 0.3917, 0.8086, 0.0504]]])"
      ]
     },
     "execution_count": 56,
     "metadata": {},
     "output_type": "execute_result"
    }
   ],
   "source": [
    "output_tensor"
   ]
  },
  {
   "cell_type": "code",
   "execution_count": 57,
   "id": "f9a133f7",
   "metadata": {},
   "outputs": [
    {
     "data": {
      "text/plain": [
       "tensor([0.0320, 0.4300, 0.1542, 0.0019, 0.3915, 0.0605, 0.1935, 0.6811, 0.5048,\n",
       "        0.3541, 0.6980, 0.4920, 0.4206, 0.1087, 0.1328, 0.2339, 0.0416, 0.4659,\n",
       "        0.7262, 0.5235, 0.0957, 0.5303, 0.6733, 0.7423, 0.9876, 0.5838, 0.1462,\n",
       "        0.7638, 0.6565, 0.3153, 0.6075, 0.4204, 0.0161, 0.0368, 0.7844, 0.0072,\n",
       "        0.5428, 0.8369, 0.2896, 0.3736, 0.8334, 0.6844, 0.2207, 0.3696, 0.0388,\n",
       "        0.9414, 0.8661, 0.6743, 0.4789, 0.2714, 0.4282, 0.6675, 0.1873, 0.0504,\n",
       "        0.5365, 0.9650, 0.1889, 0.7426, 0.0550, 0.3698, 0.6055, 0.1900, 0.8480,\n",
       "        0.5424])"
      ]
     },
     "execution_count": 57,
     "metadata": {},
     "output_type": "execute_result"
    }
   ],
   "source": [
    "output[0][6]"
   ]
  },
  {
   "cell_type": "code",
   "execution_count": 60,
   "id": "1fbaf04d",
   "metadata": {},
   "outputs": [
    {
     "data": {
      "text/plain": [
       "tensor([0.3069, 0.4541, 0.0528, 0.7933, 0.7326, 0.9650, 0.4293, 0.9217, 0.0565,\n",
       "        0.1969, 0.7149, 0.6095, 0.5099, 0.5188, 0.8574, 0.8394, 0.0267, 0.6900,\n",
       "        0.3555, 0.2192, 0.2323, 0.1542, 0.0817, 0.1590, 0.0681, 0.8346, 0.7143,\n",
       "        0.3378, 0.2859, 0.7785, 0.9668, 0.8525, 0.0838, 0.4283, 0.4188, 0.2971,\n",
       "        0.5262, 0.4591, 0.9092, 0.6489, 0.6712, 0.7706, 0.7793, 0.5896, 0.7011,\n",
       "        0.9960, 0.3039, 0.4623, 0.9865, 0.3380, 0.6413, 0.6226, 0.4300, 0.7187,\n",
       "        0.6727, 0.4492, 0.6484, 0.8844, 0.3546, 0.3703, 0.8179, 0.8476, 0.6264,\n",
       "        0.6698])"
      ]
     },
     "execution_count": 60,
     "metadata": {},
     "output_type": "execute_result"
    }
   ],
   "source": [
    "output[1][25]"
   ]
  },
  {
   "cell_type": "code",
   "execution_count": 58,
   "id": "5428692e",
   "metadata": {},
   "outputs": [],
   "source": [
    "output_tensor = output_tensor.squeeze(1) # torch.Size([2048, 64])"
   ]
  },
  {
   "cell_type": "code",
   "execution_count": 59,
   "id": "9312fd9f",
   "metadata": {},
   "outputs": [
    {
     "data": {
      "text/plain": [
       "tensor([[0.0320, 0.4300, 0.1542,  ..., 0.1900, 0.8480, 0.5424],\n",
       "        [0.3069, 0.4541, 0.0528,  ..., 0.8476, 0.6264, 0.6698],\n",
       "        [0.0131, 0.2552, 0.2702,  ..., 0.0176, 0.9185, 0.1752],\n",
       "        ...,\n",
       "        [0.7754, 0.5159, 0.2408,  ..., 0.2827, 0.5453, 0.8278],\n",
       "        [0.8666, 0.7152, 0.2644,  ..., 0.1230, 0.5616, 0.8798],\n",
       "        [0.6902, 0.2934, 0.7709,  ..., 0.3917, 0.8086, 0.0504]])"
      ]
     },
     "execution_count": 59,
     "metadata": {},
     "output_type": "execute_result"
    }
   ],
   "source": [
    "output_tensor"
   ]
  },
  {
   "cell_type": "code",
   "execution_count": null,
   "id": "8749a3e0",
   "metadata": {},
   "outputs": [],
   "source": []
  },
  {
   "cell_type": "code",
   "execution_count": null,
   "id": "4a1cb050",
   "metadata": {},
   "outputs": [],
   "source": []
  },
  {
   "cell_type": "markdown",
   "id": "14c747c4",
   "metadata": {},
   "source": [
    "# Transformer\n",
    "\n",
    "* TransformerEncoder\n",
    "    * TransformerLayer\n",
    "        * MultiHeadAttention\n",
    "        * FeedForward\n",
    "    "
   ]
  },
  {
   "cell_type": "markdown",
   "id": "07a95730",
   "metadata": {},
   "source": [
    "### MultiHeadAttention class\n",
    "* [code](https://github.com/RUCAIBox/RecBole/blob/master/recbole/model/layers.py#L385)"
   ]
  },
  {
   "attachments": {
    "image.png": {
     "image/png": "[encoded data removed]"
    }
   },
   "cell_type": "markdown",
   "id": "f191c45a",
   "metadata": {},
   "source": [
    "![image.png](attachment:image.png)"
   ]
  },
  {
   "cell_type": "code",
   "execution_count": 63,
   "id": "675eb7c3",
   "metadata": {},
   "outputs": [],
   "source": [
    "import math"
   ]
  },
  {
   "cell_type": "code",
   "execution_count": null,
   "id": "119fdaac",
   "metadata": {},
   "outputs": [],
   "source": [
    "class MultiHeadAttention(nn.Module):\n",
    "    \"\"\"\n",
    "    Multi-head Self-attention layers, a attention score dropout layer is introduced.\n",
    "    Args:\n",
    "        input_tensor (torch.Tensor): the input of the multi-head self-attention layer\n",
    "        attention_mask (torch.Tensor): the attention mask for input tensor\n",
    "    Returns:\n",
    "        hidden_states (torch.Tensor): the output of the multi-head self-attention layer\n",
    "    \"\"\""
   ]
  },
  {
   "cell_type": "markdown",
   "id": "1e632e43",
   "metadata": {},
   "source": [
    "```python\n",
    "def __init__(\n",
    "        self,\n",
    "        n_heads,\n",
    "        hidden_size,\n",
    "        hidden_dropout_prob,\n",
    "        attn_dropout_prob,\n",
    "        layer_norm_eps,\n",
    "    ):\n",
    "        super(MultiHeadAttention, self).__init__()\n",
    "        if hidden_size % n_heads != 0:\n",
    "            raise ValueError(\n",
    "                \"The hidden size (%d) is not a multiple of the number of attention \"\n",
    "                \"heads (%d)\" % (hidden_size, n_heads)\n",
    "            )\n",
    "\n",
    "        self.num_attention_heads = n_heads\n",
    "        self.attention_head_size = int(hidden_size / n_heads)\n",
    "        self.all_head_size = self.num_attention_heads * self.attention_head_size\n",
    "        self.sqrt_attention_head_size = math.sqrt(self.attention_head_size)\n",
    "\n",
    "        self.query = nn.Linear(hidden_size, self.all_head_size) # w_q (hidden_size, hidden_size)\n",
    "        self.key = nn.Linear(hidden_size, self.all_head_size)   # w_k (hidden_size, hidden_size)\n",
    "        self.value = nn.Linear(hidden_size, self.all_head_size) # w_v (hidden_size, hidden_size)\n",
    "\n",
    "        self.softmax = nn.Softmax(dim=-1)\n",
    "        self.attn_dropout = nn.Dropout(attn_dropout_prob)\n",
    "\n",
    "        self.dense = nn.Linear(hidden_size, hidden_size)\n",
    "        self.LayerNorm = nn.LayerNorm(hidden_size, eps=layer_norm_eps)\n",
    "        self.out_dropout = nn.Dropout(hidden_dropout_prob)\n",
    "```"
   ]
  },
  {
   "cell_type": "code",
   "execution_count": 61,
   "id": "35b5a729",
   "metadata": {},
   "outputs": [],
   "source": [
    "n_heads = 2\n",
    "hidden_size = 64\n",
    "hidden_dropout_prob = 0.1\n",
    "attn_dropout_prob = 0.1\n",
    "layer_norm_eps = 0.001"
   ]
  },
  {
   "cell_type": "code",
   "execution_count": 66,
   "id": "50297cbb",
   "metadata": {},
   "outputs": [],
   "source": [
    "num_attention_heads = n_heads\n",
    "attention_head_size = int(hidden_size / n_heads)          # 64/2 = 32 \n",
    "all_head_size = num_attention_heads * attention_head_size # hidden_size\n",
    "sqrt_attention_head_size = math.sqrt(attention_head_size)\n",
    "\n",
    "query = nn.Linear(hidden_size, all_head_size) # w_q (hidden_size, hidden_size)\n",
    "key = nn.Linear(hidden_size, all_head_size)   # w_k (hidden_size, hidden_size)\n",
    "value = nn.Linear(hidden_size, all_head_size) # w_v (hidden_size, hidden_size)\n",
    "\n",
    "softmax = nn.Softmax(dim=-1)\n",
    "attn_dropout = nn.Dropout(attn_dropout_prob)\n",
    "\n",
    "dense = nn.Linear(hidden_size, hidden_size)\n",
    "LayerNorm = nn.LayerNorm(hidden_size, eps=layer_norm_eps)\n",
    "out_dropout = nn.Dropout(hidden_dropout_prob)"
   ]
  },
  {
   "cell_type": "markdown",
   "id": "d9a651d1",
   "metadata": {},
   "source": [
    "```python\n",
    " def forward(self, input_tensor, attention_mask):\n",
    "        \n",
    "        mixed_query_layer = self.query(input_tensor) # w_q * q\n",
    "        mixed_key_layer = self.key(input_tensor)     # w_k * k \n",
    "        mixed_value_layer = self.value(input_tensor) # w_v * v\n",
    "\n",
    "        query_layer = self.transpose_for_scores(mixed_query_layer).permute(0, 2, 1, 3)\n",
    "        key_layer = self.transpose_for_scores(mixed_key_layer).permute(0, 2, 3, 1)\n",
    "        value_layer = self.transpose_for_scores(mixed_value_layer).permute(0, 2, 1, 3)\n",
    "\n",
    "        # Take the dot product between \"query\" and \"key\" to get the raw attention scores.\n",
    "        attention_scores = torch.matmul(query_layer, key_layer)\n",
    "\n",
    "        attention_scores = attention_scores / self.sqrt_attention_head_size\n",
    "        # Apply the attention mask is (precomputed for all layers in BertModel forward() function)\n",
    "        # [batch_size heads seq_len seq_len] scores\n",
    "        # [batch_size 1 1 seq_len]\n",
    "        attention_scores = attention_scores + attention_mask\n",
    "\n",
    "        # Normalize the attention scores to probabilities.\n",
    "        attention_probs = self.softmax(attention_scores)\n",
    "        # This is actually dropping out entire tokens to attend to, which might\n",
    "        # seem a bit unusual, but is taken from the original Transformer paper.\n",
    "\n",
    "        attention_probs = self.attn_dropout(attention_probs)\n",
    "        context_layer = torch.matmul(attention_probs, value_layer)\n",
    "        context_layer = context_layer.permute(0, 2, 1, 3).contiguous()\n",
    "        new_context_layer_shape = context_layer.size()[:-2] + (self.all_head_size,)\n",
    "        context_layer = context_layer.view(*new_context_layer_shape)\n",
    "        hidden_states = self.dense(context_layer)\n",
    "        hidden_states = self.out_dropout(hidden_states)\n",
    "        hidden_states = self.LayerNorm(hidden_states + input_tensor)\n",
    "\n",
    "        return hidden_states\n",
    "```"
   ]
  },
  {
   "cell_type": "code",
   "execution_count": 68,
   "id": "6eae7908",
   "metadata": {},
   "outputs": [],
   "source": [
    "# input \n",
    "max_seq_len = 50\n",
    "batch_size = 2048\n",
    "\n",
    "input_tensor = torch.rand([batch_size, max_seq_len, hidden_size]) # torch.Size([2048, 50, 64]) input_emb of SASRes\n",
    "attention_mask = extended_attention_mask                          # torch.Size([2048, 1, 50, 50])"
   ]
  },
  {
   "attachments": {
    "image.png": {
     "image/png": "[encoded data removed]"
    }
   },
   "cell_type": "markdown",
   "id": "39a3052b",
   "metadata": {},
   "source": [
    "![image.png](attachment:image.png)"
   ]
  },
  {
   "cell_type": "code",
   "execution_count": 69,
   "id": "e32e37e0",
   "metadata": {},
   "outputs": [],
   "source": [
    "mixed_query_layer = query(input_tensor) # torch.Size([2048, 50, 64])  \n",
    "mixed_key_layer = key(input_tensor)     # torch.Size([2048, 50, 64])  \n",
    "mixed_value_layer = value(input_tensor) # torch.Size([2048, 50, 64])  "
   ]
  },
  {
   "attachments": {
    "image.png": {
     "image/png": "[encoded data removed]"
    }
   },
   "cell_type": "markdown",
   "id": "c83564e1",
   "metadata": {},
   "source": [
    "![image.png](attachment:image.png)"
   ]
  },
  {
   "cell_type": "code",
   "execution_count": 70,
   "id": "ef7b9135",
   "metadata": {},
   "outputs": [],
   "source": [
    "def transpose_for_scores(x):\n",
    "    num_attention_heads = 2\n",
    "    attention_head_size = 32 \n",
    "    new_x_shape = x.size()[:-1] + (num_attention_heads, attention_head_size,) # torch.Size([2048, 50, 2, 32])\n",
    "    x = x.view(*new_x_shape) # torch.Size([2048, 50, 2, 32])\n",
    "    return x\n",
    "\n",
    "query_layer = transpose_for_scores(mixed_query_layer).permute(0, 2, 1, 3) # torch.Size([2048, 2, 50, 32])\n",
    "key_layer = transpose_for_scores(mixed_key_layer).permute(0, 2, 3, 1)     # torch.Size([2048, 2, 50, 32])\n",
    "value_layer = transpose_for_scores(mixed_value_layer).permute(0, 2, 1, 3) # torch.Size([2048, 2, 50, 32]) "
   ]
  },
  {
   "attachments": {
    "image.png": {
     "image/png": "[encoded data removed]"
    }
   },
   "cell_type": "markdown",
   "id": "8ed5cbde",
   "metadata": {},
   "source": [
    "![image.png](attachment:image.png)"
   ]
  },
  {
   "cell_type": "code",
   "execution_count": 72,
   "id": "86f9a054",
   "metadata": {
    "scrolled": true
   },
   "outputs": [
    {
     "data": {
      "text/plain": [
       "tensor([[[[1.0000, 0.0000, 0.0000,  ..., 0.0000, 0.0000, 0.0000],\n",
       "          [0.5373, 0.4627, 0.0000,  ..., 0.0000, 0.0000, 0.0000],\n",
       "          [0.3502, 0.3081, 0.3417,  ..., 0.0000, 0.0000, 0.0000],\n",
       "          ...,\n",
       "          [0.1432, 0.1263, 0.1351,  ..., 0.0000, 0.0000, 0.0000],\n",
       "          [0.1418, 0.1229, 0.1352,  ..., 0.0000, 0.0000, 0.0000],\n",
       "          [0.1428, 0.1263, 0.1391,  ..., 0.0000, 0.0000, 0.0000]],\n",
       "\n",
       "         [[1.0000, 0.0000, 0.0000,  ..., 0.0000, 0.0000, 0.0000],\n",
       "          [0.4831, 0.5169, 0.0000,  ..., 0.0000, 0.0000, 0.0000],\n",
       "          [0.3075, 0.3405, 0.3520,  ..., 0.0000, 0.0000, 0.0000],\n",
       "          ...,\n",
       "          [0.1341, 0.1404, 0.1511,  ..., 0.0000, 0.0000, 0.0000],\n",
       "          [0.1320, 0.1370, 0.1488,  ..., 0.0000, 0.0000, 0.0000],\n",
       "          [0.1349, 0.1423, 0.1491,  ..., 0.0000, 0.0000, 0.0000]]],\n",
       "\n",
       "\n",
       "        [[[1.0000, 0.0000, 0.0000,  ..., 0.0000, 0.0000, 0.0000],\n",
       "          [0.4948, 0.5052, 0.0000,  ..., 0.0000, 0.0000, 0.0000],\n",
       "          [0.3324, 0.3172, 0.3504,  ..., 0.0000, 0.0000, 0.0000],\n",
       "          ...,\n",
       "          [0.0364, 0.0355, 0.0388,  ..., 0.0000, 0.0000, 0.0000],\n",
       "          [0.0364, 0.0370, 0.0381,  ..., 0.0000, 0.0000, 0.0000],\n",
       "          [0.0377, 0.0378, 0.0386,  ..., 0.0000, 0.0000, 0.0000]],\n",
       "\n",
       "         [[1.0000, 0.0000, 0.0000,  ..., 0.0000, 0.0000, 0.0000],\n",
       "          [0.5041, 0.4959, 0.0000,  ..., 0.0000, 0.0000, 0.0000],\n",
       "          [0.3404, 0.3195, 0.3401,  ..., 0.0000, 0.0000, 0.0000],\n",
       "          ...,\n",
       "          [0.0400, 0.0390, 0.0394,  ..., 0.0000, 0.0000, 0.0000],\n",
       "          [0.0399, 0.0388, 0.0408,  ..., 0.0000, 0.0000, 0.0000],\n",
       "          [0.0411, 0.0389, 0.0401,  ..., 0.0000, 0.0000, 0.0000]]],\n",
       "\n",
       "\n",
       "        [[[1.0000, 0.0000, 0.0000,  ..., 0.0000, 0.0000, 0.0000],\n",
       "          [0.4617, 0.5383, 0.0000,  ..., 0.0000, 0.0000, 0.0000],\n",
       "          [0.3158, 0.3405, 0.3437,  ..., 0.0000, 0.0000, 0.0000],\n",
       "          ...,\n",
       "          [0.0702, 0.0777, 0.0825,  ..., 0.0000, 0.0000, 0.0000],\n",
       "          [0.0731, 0.0793, 0.0838,  ..., 0.0000, 0.0000, 0.0000],\n",
       "          [0.0690, 0.0821, 0.0834,  ..., 0.0000, 0.0000, 0.0000]],\n",
       "\n",
       "         [[1.0000, 0.0000, 0.0000,  ..., 0.0000, 0.0000, 0.0000],\n",
       "          [0.5080, 0.4920, 0.0000,  ..., 0.0000, 0.0000, 0.0000],\n",
       "          [0.3122, 0.3395, 0.3483,  ..., 0.0000, 0.0000, 0.0000],\n",
       "          ...,\n",
       "          [0.0723, 0.0761, 0.0852,  ..., 0.0000, 0.0000, 0.0000],\n",
       "          [0.0767, 0.0825, 0.0775,  ..., 0.0000, 0.0000, 0.0000],\n",
       "          [0.0837, 0.0788, 0.0755,  ..., 0.0000, 0.0000, 0.0000]]],\n",
       "\n",
       "\n",
       "        ...,\n",
       "\n",
       "\n",
       "        [[[1.0000, 0.0000, 0.0000,  ..., 0.0000, 0.0000, 0.0000],\n",
       "          [0.4853, 0.5147, 0.0000,  ..., 0.0000, 0.0000, 0.0000],\n",
       "          [0.3296, 0.3442, 0.3262,  ..., 0.0000, 0.0000, 0.0000],\n",
       "          ...,\n",
       "          [0.0261, 0.0278, 0.0254,  ..., 0.0000, 0.0000, 0.0000],\n",
       "          [0.0258, 0.0273, 0.0246,  ..., 0.0000, 0.0000, 0.0000],\n",
       "          [0.0265, 0.0263, 0.0248,  ..., 0.0000, 0.0000, 0.0000]],\n",
       "\n",
       "         [[1.0000, 0.0000, 0.0000,  ..., 0.0000, 0.0000, 0.0000],\n",
       "          [0.4935, 0.5065, 0.0000,  ..., 0.0000, 0.0000, 0.0000],\n",
       "          [0.3193, 0.3295, 0.3512,  ..., 0.0000, 0.0000, 0.0000],\n",
       "          ...,\n",
       "          [0.0255, 0.0242, 0.0265,  ..., 0.0000, 0.0000, 0.0000],\n",
       "          [0.0257, 0.0258, 0.0277,  ..., 0.0000, 0.0000, 0.0000],\n",
       "          [0.0252, 0.0262, 0.0279,  ..., 0.0000, 0.0000, 0.0000]]],\n",
       "\n",
       "\n",
       "        [[[1.0000, 0.0000, 0.0000,  ..., 0.0000, 0.0000, 0.0000],\n",
       "          [0.4988, 0.5012, 0.0000,  ..., 0.0000, 0.0000, 0.0000],\n",
       "          [0.3359, 0.3593, 0.3048,  ..., 0.0000, 0.0000, 0.0000],\n",
       "          ...,\n",
       "          [0.0220, 0.0224, 0.0202,  ..., 0.0233, 0.0000, 0.0000],\n",
       "          [0.0216, 0.0214, 0.0192,  ..., 0.0227, 0.0197, 0.0000],\n",
       "          [0.0213, 0.0221, 0.0191,  ..., 0.0218, 0.0214, 0.0204]],\n",
       "\n",
       "         [[1.0000, 0.0000, 0.0000,  ..., 0.0000, 0.0000, 0.0000],\n",
       "          [0.5082, 0.4918, 0.0000,  ..., 0.0000, 0.0000, 0.0000],\n",
       "          [0.3283, 0.3336, 0.3381,  ..., 0.0000, 0.0000, 0.0000],\n",
       "          ...,\n",
       "          [0.0209, 0.0203, 0.0197,  ..., 0.0208, 0.0000, 0.0000],\n",
       "          [0.0207, 0.0208, 0.0208,  ..., 0.0194, 0.0199, 0.0000],\n",
       "          [0.0191, 0.0194, 0.0200,  ..., 0.0205, 0.0206, 0.0198]]],\n",
       "\n",
       "\n",
       "        [[[1.0000, 0.0000, 0.0000,  ..., 0.0000, 0.0000, 0.0000],\n",
       "          [0.4846, 0.5154, 0.0000,  ..., 0.0000, 0.0000, 0.0000],\n",
       "          [0.3286, 0.3269, 0.3445,  ..., 0.0000, 0.0000, 0.0000],\n",
       "          ...,\n",
       "          [0.1366, 0.1315, 0.1416,  ..., 0.0000, 0.0000, 0.0000],\n",
       "          [0.1321, 0.1406, 0.1364,  ..., 0.0000, 0.0000, 0.0000],\n",
       "          [0.1286, 0.1320, 0.1442,  ..., 0.0000, 0.0000, 0.0000]],\n",
       "\n",
       "         [[1.0000, 0.0000, 0.0000,  ..., 0.0000, 0.0000, 0.0000],\n",
       "          [0.5006, 0.4994, 0.0000,  ..., 0.0000, 0.0000, 0.0000],\n",
       "          [0.3274, 0.3307, 0.3419,  ..., 0.0000, 0.0000, 0.0000],\n",
       "          ...,\n",
       "          [0.1450, 0.1456, 0.1517,  ..., 0.0000, 0.0000, 0.0000],\n",
       "          [0.1432, 0.1482, 0.1453,  ..., 0.0000, 0.0000, 0.0000],\n",
       "          [0.1444, 0.1396, 0.1480,  ..., 0.0000, 0.0000, 0.0000]]]],\n",
       "       grad_fn=<SoftmaxBackward0>)"
      ]
     },
     "execution_count": 72,
     "metadata": {},
     "output_type": "execute_result"
    }
   ],
   "source": [
    "attention_scores = torch.matmul(query_layer, key_layer) # torch.Size([2048, 2, 50, 50])\n",
    "attention_scores = attention_scores / sqrt_attention_head_size\n",
    "attention_scores = attention_scores + attention_mask    # [batch_size, num_heads, max_seq_len, max_seq_len] \n",
    "attention_probs = softmax(attention_scores)\n",
    "\n",
    "attention_probs"
   ]
  },
  {
   "cell_type": "code",
   "execution_count": 73,
   "id": "277cf76c",
   "metadata": {},
   "outputs": [],
   "source": [
    "attention_probs = attn_dropout(attention_probs) # dropout layer\n",
    "context_layer = torch.matmul(attention_probs, value_layer) # torch.Size([2048, 2, 50, 32])"
   ]
  },
  {
   "cell_type": "code",
   "execution_count": null,
   "id": "ae9cbb6c",
   "metadata": {},
   "outputs": [],
   "source": []
  },
  {
   "attachments": {
    "image.png": {
     "image/png": "[encoded data removed]"
    }
   },
   "cell_type": "markdown",
   "id": "24c18797",
   "metadata": {},
   "source": [
    "![image.png](attachment:image.png)"
   ]
  },
  {
   "cell_type": "code",
   "execution_count": 74,
   "id": "2afaaec3",
   "metadata": {},
   "outputs": [],
   "source": [
    "context_layer = context_layer.permute(0, 2, 1, 3).contiguous()         # torch.Size([2048, 50, 2, 32])\n",
    "new_context_layer_shape = context_layer.size()[:-2] + (all_head_size,) # (2048, 50, 64)\n",
    "context_layer = context_layer.view(*new_context_layer_shape)           # torch.Size([2048, 50, 64])"
   ]
  },
  {
   "cell_type": "code",
   "execution_count": 75,
   "id": "4dd14f3a",
   "metadata": {},
   "outputs": [],
   "source": [
    "hidden_states = dense(context_layer)                       # torch.Size([2048, 50, 64])\n",
    "hidden_states = out_dropout(hidden_states)                 # torch.Size([2048, 50, 64])\n",
    "attention_output = LayerNorm(hidden_states + input_tensor) # torch.Size([2048, 50, 64])"
   ]
  },
  {
   "cell_type": "code",
   "execution_count": null,
   "id": "7d9c16fe",
   "metadata": {},
   "outputs": [],
   "source": []
  },
  {
   "cell_type": "markdown",
   "id": "d5d2212c",
   "metadata": {},
   "source": [
    "### FeedForward class\n",
    "* [code](https://github.com/RUCAIBox/RecBole/blob/master/recbole/model/layers.py#L472)"
   ]
  },
  {
   "cell_type": "code",
   "execution_count": null,
   "id": "4ed86f3b",
   "metadata": {},
   "outputs": [],
   "source": [
    "class FeedForward(nn.Module):\n",
    "    \"\"\"\n",
    "    Point-wise feed-forward layer is implemented by two dense layers.\n",
    "    Args:\n",
    "        input_tensor (torch.Tensor): the input of the point-wise feed-forward layer\n",
    "    Returns:\n",
    "        hidden_states (torch.Tensor): the output of the point-wise feed-forward layer\n",
    "    \"\"\"\n"
   ]
  },
  {
   "cell_type": "markdown",
   "id": "449cc24c",
   "metadata": {},
   "source": [
    "```python\n",
    "\n",
    "    def __init__(\n",
    "        self, hidden_size, inner_size, hidden_dropout_prob, hidden_act, layer_norm_eps\n",
    "    ):\n",
    "        super(FeedForward, self).__init__()\n",
    "        self.dense_1 = nn.Linear(hidden_size, inner_size)\n",
    "        self.intermediate_act_fn = self.get_hidden_act(hidden_act)\n",
    "\n",
    "        self.dense_2 = nn.Linear(inner_size, hidden_size)\n",
    "        self.LayerNorm = nn.LayerNorm(hidden_size, eps=layer_norm_eps)\n",
    "        self.dropout = nn.Dropout(hidden_dropout_prob)\n",
    "\n",
    "```"
   ]
  },
  {
   "cell_type": "code",
   "execution_count": 76,
   "id": "b99be678",
   "metadata": {},
   "outputs": [],
   "source": [
    "hidden_size = 64\n",
    "inner_size = 256\n",
    "hidden_act = 'gelu'\n",
    "attn_dropout_prob = 0.5"
   ]
  },
  {
   "cell_type": "code",
   "execution_count": 77,
   "id": "659e4824",
   "metadata": {},
   "outputs": [],
   "source": [
    "# def get_hidden_act( act):\n",
    "#     ACT2FN = {\n",
    "#         \"gelu\": self.gelu,\n",
    "#         \"relu\": fn.relu,\n",
    "#         \"swish\": self.swish,\n",
    "#         \"tanh\": torch.tanh,\n",
    "#         \"sigmoid\": torch.sigmoid,\n",
    "#     }\n",
    "#     return ACT2FN[act]\n",
    "\n",
    "dense_1 = nn.Linear(hidden_size, inner_size)\n",
    "# intermediate_act_fn =  get_hidden_act(hidden_act)\n",
    "dense_2 = nn.Linear(inner_size, hidden_size)\n",
    "LayerNorm = nn.LayerNorm(hidden_size, eps=layer_norm_eps)\n",
    "dropout = nn.Dropout(hidden_dropout_prob)"
   ]
  },
  {
   "cell_type": "code",
   "execution_count": null,
   "id": "9c07c46e",
   "metadata": {},
   "outputs": [],
   "source": []
  },
  {
   "cell_type": "markdown",
   "id": "07397284",
   "metadata": {},
   "source": [
    "```python\n",
    " def forward(self, input_tensor):\n",
    "        hidden_states = self.dense_1(input_tensor)\n",
    "        hidden_states = self.intermediate_act_fn(hidden_states)\n",
    "\n",
    "        hidden_states = self.dense_2(hidden_states)\n",
    "        hidden_states = self.dropout(hidden_states)\n",
    "        hidden_states = self.LayerNorm(hidden_states + input_tensor)\n",
    "\n",
    "        return hidden_states\n",
    "```"
   ]
  },
  {
   "cell_type": "code",
   "execution_count": 78,
   "id": "b5250e42",
   "metadata": {},
   "outputs": [],
   "source": [
    "# input \n",
    "input_tensor = attention_output # output of multi-head attention torch.Size([2048, 50, 64])"
   ]
  },
  {
   "cell_type": "code",
   "execution_count": 79,
   "id": "06855c63",
   "metadata": {},
   "outputs": [],
   "source": [
    "def gelu(x):\n",
    "    \"\"\"Implementation of the gelu activation function.\n",
    "    For information: OpenAI GPT's gelu is slightly different (and gives slightly different results)::\n",
    "        0.5 * x * (1 + torch.tanh(math.sqrt(2 / math.pi) * (x + 0.044715 * torch.pow(x, 3))))\n",
    "    Also see https://arxiv.org/abs/1606.08415\n",
    "    \"\"\"\n",
    "    return x * 0.5 * (1.0 + torch.erf(x / math.sqrt(2.0)))\n",
    "\n",
    "hidden_states = dense_1(input_tensor) # torch.Size([2048, 50, 256])\n",
    "hidden_states = gelu(hidden_states)   # torch.Size([2048, 50, 256])\n",
    "\n",
    "hidden_states = dense_2(hidden_states) # torch.Size([2048, 50, 64])\n",
    "hidden_states = dropout(hidden_states) # torch.Size([2048, 50, 64])\n",
    "feedforward_output = LayerNorm(hidden_states + input_tensor)  # torch.Size([2048, 50, 64])"
   ]
  },
  {
   "cell_type": "code",
   "execution_count": null,
   "id": "35f78d1b",
   "metadata": {},
   "outputs": [],
   "source": []
  },
  {
   "cell_type": "markdown",
   "id": "1de8abd8",
   "metadata": {},
   "source": [
    "### TransformerLayer class\n",
    "* [code](https://github.com/RUCAIBox/RecBole/blob/master/recbole/model/layers.py#L530)"
   ]
  },
  {
   "cell_type": "code",
   "execution_count": null,
   "id": "ef240ef3",
   "metadata": {},
   "outputs": [],
   "source": [
    "class TransformerLayer(nn.Module):\n",
    "    \"\"\"\n",
    "    One transformer layer consists of a multi-head self-attention layer and a point-wise feed-forward layer.\n",
    "    Args:\n",
    "        hidden_states (torch.Tensor): the input of the multi-head self-attention sublayer\n",
    "        attention_mask (torch.Tensor): the attention mask for the multi-head self-attention sublayer\n",
    "    Returns:\n",
    "        feedforward_output (torch.Tensor): The output of the point-wise feed-forward sublayer,\n",
    "                                           is the output of the transformer layer.\n",
    "    \"\"\""
   ]
  },
  {
   "cell_type": "markdown",
   "id": "d95d80a5",
   "metadata": {},
   "source": [
    "```python\n",
    "    def __init__(\n",
    "        self,\n",
    "        n_heads,\n",
    "        hidden_size,\n",
    "        intermediate_size,\n",
    "        hidden_dropout_prob,\n",
    "        attn_dropout_prob,\n",
    "        hidden_act,\n",
    "        layer_norm_eps,\n",
    "    ):\n",
    "        super(TransformerLayer, self).__init__()\n",
    "        self.multi_head_attention = MultiHeadAttention(\n",
    "            n_heads, hidden_size, hidden_dropout_prob, attn_dropout_prob, layer_norm_eps\n",
    "        )\n",
    "        self.feed_forward = FeedForward(\n",
    "            hidden_size,\n",
    "            intermediate_size,\n",
    "            hidden_dropout_prob,\n",
    "            hidden_act,\n",
    "            layer_norm_eps,\n",
    "        )\n",
    "\n",
    "```"
   ]
  },
  {
   "cell_type": "markdown",
   "id": "b31da192",
   "metadata": {},
   "source": [
    "```python\n",
    " def forward(self, hidden_states, attention_mask):\n",
    "        attention_output = self.multi_head_attention(hidden_states, attention_mask)\n",
    "        feedforward_output = self.feed_forward(attention_output)\n",
    "        return feedforward_output\n",
    "```"
   ]
  },
  {
   "cell_type": "code",
   "execution_count": null,
   "id": "93592c2f",
   "metadata": {},
   "outputs": [],
   "source": []
  },
  {
   "cell_type": "markdown",
   "id": "564c4201",
   "metadata": {},
   "source": [
    "### TransformerEncoder\n",
    "* [code](https://github.com/RUCAIBox/RecBole/blob/master/recbole/model/layers.py#L572)"
   ]
  },
  {
   "cell_type": "code",
   "execution_count": null,
   "id": "20f0557c",
   "metadata": {},
   "outputs": [],
   "source": [
    "class TransformerEncoder(nn.Module):\n",
    "    r\"\"\"One TransformerEncoder consists of several TransformerLayers.\n",
    "    Args:\n",
    "        n_layers(num): num of transformer layers in transformer encoder. Default: 2\n",
    "        n_heads(num): num of attention heads for multi-head attention layer. Default: 2\n",
    "        hidden_size(num): the input and output hidden size. Default: 64\n",
    "        inner_size(num): the dimensionality in feed-forward layer. Default: 256\n",
    "        hidden_dropout_prob(float): probability of an element to be zeroed. Default: 0.5\n",
    "        attn_dropout_prob(float): probability of an attention score to be zeroed. Default: 0.5\n",
    "        hidden_act(str): activation function in feed-forward layer. Default: 'gelu'\n",
    "                      candidates: 'gelu', 'relu', 'swish', 'tanh', 'sigmoid'\n",
    "        layer_norm_eps(float): a value added to the denominator for numerical stability. Default: 1e-12\n",
    "    \"\"\""
   ]
  },
  {
   "cell_type": "markdown",
   "id": "89b726b4",
   "metadata": {},
   "source": [
    "```python\n",
    "  def __init__(\n",
    "        self,\n",
    "        n_layers=2,\n",
    "        n_heads=2,\n",
    "        hidden_size=64,\n",
    "        inner_size=256,\n",
    "        hidden_dropout_prob=0.5,\n",
    "        attn_dropout_prob=0.5,\n",
    "        hidden_act=\"gelu\",\n",
    "        layer_norm_eps=1e-12,\n",
    "    ):\n",
    "        super(TransformerEncoder, self).__init__()\n",
    "        layer = TransformerLayer(\n",
    "            n_heads,\n",
    "            hidden_size,\n",
    "            inner_size,\n",
    "            hidden_dropout_prob,\n",
    "            attn_dropout_prob,\n",
    "            hidden_act,\n",
    "            layer_norm_eps,\n",
    "        )\n",
    "        self.layer = nn.ModuleList([copy.deepcopy(layer) for _ in range(n_layers)])\n",
    "```"
   ]
  },
  {
   "cell_type": "code",
   "execution_count": 80,
   "id": "36d0db98",
   "metadata": {},
   "outputs": [],
   "source": [
    "n_layers=2\n",
    "n_heads=2\n",
    "hidden_size=64\n",
    "inner_size=256\n",
    "hidden_dropout_prob=0.5\n",
    "attn_dropout_prob=0.5\n",
    "hidden_act=\"gelu\"\n",
    "layer_norm_eps=1e-12"
   ]
  },
  {
   "cell_type": "code",
   "execution_count": 81,
   "id": "13798658",
   "metadata": {},
   "outputs": [],
   "source": [
    "from recbole.model.layers import TransformerLayer\n",
    "import copy\n",
    "\n",
    "layer = TransformerLayer(\n",
    "            n_heads,\n",
    "            hidden_size,\n",
    "            inner_size,\n",
    "            hidden_dropout_prob,\n",
    "            attn_dropout_prob,\n",
    "            hidden_act,\n",
    "            layer_norm_eps,\n",
    "        )\n",
    "\n",
    "layer = nn.ModuleList([copy.deepcopy(layer) for _ in range(n_layers)]) # num_layer만큼 생성 "
   ]
  },
  {
   "cell_type": "markdown",
   "id": "213e6643",
   "metadata": {},
   "source": [
    "```python\n",
    "def forward(self, hidden_states, attention_mask, output_all_encoded_layers=True):\n",
    "        \"\"\"\n",
    "        Args:\n",
    "            hidden_states (torch.Tensor): the input of the TransformerEncoder\n",
    "            attention_mask (torch.Tensor): the attention mask for the input hidden_states\n",
    "            output_all_encoded_layers (Bool): whether output all transformer layers' output\n",
    "        Returns:\n",
    "            all_encoder_layers (list): if output_all_encoded_layers is True, return a list consists of all transformer\n",
    "            layers' output, otherwise return a list only consists of the output of last transformer layer.\n",
    "        \"\"\"\n",
    "        all_encoder_layers = []\n",
    "        for layer_module in self.layer:\n",
    "            hidden_states = layer_module(hidden_states, attention_mask)\n",
    "            if output_all_encoded_layers:\n",
    "                all_encoder_layers.append(hidden_states)\n",
    "        if not output_all_encoded_layers:\n",
    "            all_encoder_layers.append(hidden_states)\n",
    "        return all_encoder_layers\n",
    "```"
   ]
  },
  {
   "cell_type": "code",
   "execution_count": 82,
   "id": "2524a72c",
   "metadata": {},
   "outputs": [],
   "source": [
    "# input \n",
    "hidden_states = torch.rand([2048, 50, 64]) # input_emb of SASRes\n",
    "attention_mask = extended_attention_mask"
   ]
  },
  {
   "cell_type": "code",
   "execution_count": 83,
   "id": "b9aa53b9",
   "metadata": {},
   "outputs": [],
   "source": [
    "output_all_encoded_layers=True\n",
    "\n",
    "all_encoder_layers = []\n",
    "for layer_module in layer:\n",
    "    hidden_states = layer_module(hidden_states, attention_mask) # TransformerLayer\n",
    "    if output_all_encoded_layers:\n",
    "        all_encoder_layers.append(hidden_states)\n",
    "if not output_all_encoded_layers:\n",
    "    all_encoder_layers.append(hidden_states)"
   ]
  },
  {
   "cell_type": "code",
   "execution_count": 84,
   "id": "b528c5dd",
   "metadata": {},
   "outputs": [
    {
     "data": {
      "text/plain": [
       "torch.Size([2048, 50, 64])"
      ]
     },
     "execution_count": 84,
     "metadata": {},
     "output_type": "execute_result"
    }
   ],
   "source": [
    "all_encoder_layers[0].shape "
   ]
  },
  {
   "cell_type": "code",
   "execution_count": 85,
   "id": "f0439a18",
   "metadata": {},
   "outputs": [
    {
     "data": {
      "text/plain": [
       "torch.Size([2048, 50, 64])"
      ]
     },
     "execution_count": 85,
     "metadata": {},
     "output_type": "execute_result"
    }
   ],
   "source": [
    "all_encoder_layers[1].shape "
   ]
  },
  {
   "cell_type": "code",
   "execution_count": null,
   "id": "2409a5f0",
   "metadata": {},
   "outputs": [],
   "source": []
  },
  {
   "cell_type": "code",
   "execution_count": null,
   "id": "1a909bfa",
   "metadata": {},
   "outputs": [],
   "source": []
  },
  {
   "cell_type": "markdown",
   "id": "104d95f7",
   "metadata": {},
   "source": [
    "### SASRec class"
   ]
  },
  {
   "cell_type": "markdown",
   "id": "9c6ca309",
   "metadata": {},
   "source": [
    "* AbstractRecommender\n",
    "    * SequentialRecommender\n",
    "        * SASRec\n",
    "            * TransformerEncoder\n",
    "                * TransformerLayer\n",
    "                    * MultiHeadAttention\n",
    "                    * FeedForward"
   ]
  },
  {
   "cell_type": "code",
   "execution_count": 88,
   "id": "c92921e0",
   "metadata": {},
   "outputs": [],
   "source": [
    "from recbole.model.abstract_recommender import SequentialRecommender\n",
    "from recbole.model.layers import TransformerEncoder\n",
    "from recbole.model.loss import BPRLoss"
   ]
  },
  {
   "cell_type": "code",
   "execution_count": null,
   "id": "c528fe63",
   "metadata": {},
   "outputs": [],
   "source": [
    "class SASRec(SequentialRecommender):\n",
    "    r\"\"\"\n",
    "    SASRec is the first sequential recommender based on self-attentive mechanism.\n",
    "    NOTE:\n",
    "        In the author's implementation, the Point-Wise Feed-Forward Network (PFFN) is implemented\n",
    "        by CNN with 1x1 kernel. In this implementation, we follows the original BERT implementation\n",
    "        using Fully Connected Layer to implement the PFFN.\n",
    "    \"\"\""
   ]
  },
  {
   "cell_type": "markdown",
   "id": "0de47554",
   "metadata": {},
   "source": [
    "```python\n",
    "    def __init__(self, config, dataset):\n",
    "        super(SASRec, self).__init__(config, dataset)\n",
    "\n",
    "        # load parameters info\n",
    "        self.n_layers = config[\"n_layers\"]\n",
    "        self.n_heads = config[\"n_heads\"]\n",
    "        self.hidden_size = config[\"hidden_size\"]  # same as embedding_size\n",
    "        self.inner_size = config[\n",
    "            \"inner_size\"\n",
    "        ]  # the dimensionality in feed-forward layer\n",
    "        self.hidden_dropout_prob = config[\"hidden_dropout_prob\"]\n",
    "        self.attn_dropout_prob = config[\"attn_dropout_prob\"]\n",
    "        self.hidden_act = config[\"hidden_act\"]\n",
    "        self.layer_norm_eps = config[\"layer_norm_eps\"]\n",
    "\n",
    "        self.initializer_range = config[\"initializer_range\"]\n",
    "        self.loss_type = config[\"loss_type\"]\n",
    "\n",
    "        # define layers and loss\n",
    "        self.item_embedding = nn.Embedding(\n",
    "            self.n_items, self.hidden_size, padding_idx=0\n",
    "        )\n",
    "        self.position_embedding = nn.Embedding(self.max_seq_length, self.hidden_size)\n",
    "        self.trm_encoder = TransformerEncoder(\n",
    "            n_layers=self.n_layers,\n",
    "            n_heads=self.n_heads,\n",
    "            hidden_size=self.hidden_size,\n",
    "            inner_size=self.inner_size,\n",
    "            hidden_dropout_prob=self.hidden_dropout_prob,\n",
    "            attn_dropout_prob=self.attn_dropout_prob,\n",
    "            hidden_act=self.hidden_act,\n",
    "            layer_norm_eps=self.layer_norm_eps,\n",
    "        )\n",
    "\n",
    "        self.LayerNorm = nn.LayerNorm(self.hidden_size, eps=self.layer_norm_eps)\n",
    "        self.dropout = nn.Dropout(self.hidden_dropout_prob)\n",
    "\n",
    "        if self.loss_type == \"BPR\":\n",
    "            self.loss_fct = BPRLoss()\n",
    "        elif self.loss_type == \"CE\":\n",
    "            self.loss_fct = nn.CrossEntropyLoss()\n",
    "        else:\n",
    "            raise NotImplementedError(\"Make sure 'loss_type' in ['BPR', 'CE']!\")\n",
    "\n",
    "        # parameters initialization\n",
    "        self.apply(self._init_weights)\n",
    "\n",
    "```"
   ]
  },
  {
   "cell_type": "code",
   "execution_count": 86,
   "id": "77740cba",
   "metadata": {},
   "outputs": [
    {
     "name": "stdout",
     "output_type": "stream",
     "text": [
      "n_layers: 2\n",
      "n_heads: 2\n",
      "hidden_size: 64\n",
      "inner_size: 256\n",
      "hidden_dropout_prob: 0.5\n",
      "attn_dropout_prob: 0.5\n",
      "hidden_act: gelu\n",
      "layer_norm_eps: 1e-12\n",
      "initializer_range: 0.02\n",
      "loss_type: CE\n"
     ]
    }
   ],
   "source": [
    " # load parameters info\n",
    "n_layers = config[\"n_layers\"]\n",
    "n_heads = config[\"n_heads\"]\n",
    "hidden_size = config[\"hidden_size\"]  # same as embedding_size\n",
    "inner_size = config[\"inner_size\"]    # the dimensionality in feed-forward layer\n",
    "hidden_dropout_prob = config[\"hidden_dropout_prob\"]\n",
    "attn_dropout_prob = config[\"attn_dropout_prob\"]\n",
    "hidden_act = config[\"hidden_act\"]\n",
    "layer_norm_eps = config[\"layer_norm_eps\"]\n",
    "\n",
    "initializer_range = config[\"initializer_range\"]\n",
    "loss_type = config[\"loss_type\"]\n",
    "\n",
    "print('n_layers:', n_layers)\n",
    "print('n_heads:', n_heads)\n",
    "print('hidden_size:', hidden_size)\n",
    "print('inner_size:', inner_size)\n",
    "print('hidden_dropout_prob:', hidden_dropout_prob)\n",
    "print('attn_dropout_prob:', attn_dropout_prob)\n",
    "print('hidden_act:', hidden_act)\n",
    "print('layer_norm_eps:', layer_norm_eps)\n",
    "print('initializer_range:', initializer_range)\n",
    "print('loss_type:', loss_type)"
   ]
  },
  {
   "cell_type": "code",
   "execution_count": 89,
   "id": "098105b9",
   "metadata": {},
   "outputs": [],
   "source": [
    "# define layers and loss\n",
    "n_items = dataset.num(config[\"ITEM_ID_FIELD\"]) \n",
    "\n",
    "item_embedding = nn.Embedding(n_items, hidden_size, padding_idx=0)\n",
    "position_embedding = nn.Embedding(max_seq_length, hidden_size)\n",
    "\n",
    "trm_encoder = TransformerEncoder(n_layers=n_layers,\n",
    "                                 n_heads=n_heads,\n",
    "                                 hidden_size=hidden_size,\n",
    "                                 inner_size=inner_size,\n",
    "                                 hidden_dropout_prob=hidden_dropout_prob,\n",
    "                                 attn_dropout_prob=attn_dropout_prob,\n",
    "                                 hidden_act=hidden_act,\n",
    "                                 layer_norm_eps=layer_norm_eps,\n",
    "                                )\n",
    "\n",
    "LayerNorm = nn.LayerNorm(hidden_size, eps=layer_norm_eps)\n",
    "dropout = nn.Dropout(hidden_dropout_prob)\n",
    "\n",
    "# loss \n",
    "if loss_type == \"BPR\":\n",
    "    loss_fct = BPRLoss()\n",
    "elif loss_type == \"CE\":\n",
    "    loss_fct = nn.CrossEntropyLoss()\n",
    "else:\n",
    "    raise NotImplementedError(\"Make sure 'loss_type' in ['BPR', 'CE']!\")\n"
   ]
  },
  {
   "cell_type": "code",
   "execution_count": null,
   "id": "159c6338",
   "metadata": {},
   "outputs": [],
   "source": [
    "# parameters initialization\n",
    "self.apply(_init_weights)"
   ]
  },
  {
   "cell_type": "markdown",
   "id": "b857c3d4",
   "metadata": {},
   "source": [
    "```python\n",
    "\n",
    "def _init_weights(self, module):\n",
    "        \"\"\"Initialize the weights\"\"\"\n",
    "        if isinstance(module, (nn.Linear, nn.Embedding)):\n",
    "            # Slightly different from the TF version which uses truncated_normal for initialization\n",
    "            # cf https://github.com/pytorch/pytorch/pull/5617\n",
    "            module.weight.data.normal_(mean=0.0, std=self.initializer_range)\n",
    "        elif isinstance(module, nn.LayerNorm):\n",
    "            module.bias.data.zero_()\n",
    "            module.weight.data.fill_(1.0)\n",
    "        if isinstance(module, nn.Linear) and module.bias is not None:\n",
    "            module.bias.data.zero_()\n",
    "```"
   ]
  },
  {
   "cell_type": "code",
   "execution_count": null,
   "id": "e9c1a3e3",
   "metadata": {},
   "outputs": [],
   "source": [
    "# self.apply(self._init_weights)는 아래 코드와 동일하게 작동함\n",
    "\n",
    "# for submodule in model.children():\n",
    "#     _init_weights(submodule)"
   ]
  },
  {
   "cell_type": "code",
   "execution_count": null,
   "id": "e14e96e8",
   "metadata": {},
   "outputs": [],
   "source": []
  },
  {
   "cell_type": "markdown",
   "id": "1a8c4a10",
   "metadata": {},
   "source": [
    "```python\n",
    "def forward(self, item_seq, item_seq_len):\n",
    "    \n",
    "    # position embedding\n",
    "    position_ids = torch.arange(item_seq.size(1), dtype=torch.long, device=item_seq.device)\n",
    "    position_ids = position_ids.unsqueeze(0).expand_as(item_seq)\n",
    "    position_embedding = self.position_embedding(position_ids) # (2048, 50, 64)\n",
    "    \n",
    "    # item embedding\n",
    "    item_emb = self.item_embedding(item_seq)\n",
    "    input_emb = item_emb + position_embedding\n",
    "    input_emb = self.LayerNorm(input_emb)\n",
    "    input_emb = self.dropout(input_emb) # (2048, 50, 64)\n",
    "    \n",
    "    # attention mask \n",
    "    extended_attention_mask = self.get_attention_mask(item_seq) # (2048, 1, 50, 50)\n",
    "    \n",
    "    # transformer \n",
    "    trm_output = self.trm_encoder(input_emb, extended_attention_mask, output_all_encoded_layers=True)\n",
    "    \n",
    "    # output \n",
    "    output = trm_output[-1]\n",
    "    output = self.gather_indexes(output, item_seq_len - 1)\n",
    "    \n",
    "    return output  # [B H]\n",
    "```"
   ]
  },
  {
   "cell_type": "code",
   "execution_count": 90,
   "id": "39abf2ba",
   "metadata": {},
   "outputs": [
    {
     "data": {
      "text/plain": [
       "tensor([[ 1868,   266,  2206,  ...,     0,     0,     0],\n",
       "        [ 2549,  2549,    60,  ...,     0,     0,     0],\n",
       "        [ 1017,   522,   265,  ...,     0,     0,     0],\n",
       "        ...,\n",
       "        [ 4208,   818,  6991,  ...,     0,     0,     0],\n",
       "        [ 3813,  4103,  4103,  ...,  9211, 10242,   265],\n",
       "        [  181,  1299,  1076,  ...,     0,     0,     0]])"
      ]
     },
     "execution_count": 90,
     "metadata": {},
     "output_type": "execute_result"
    }
   ],
   "source": [
    "item_seq # torch.Size([2048, 50])"
   ]
  },
  {
   "cell_type": "code",
   "execution_count": 91,
   "id": "00e9a2b4",
   "metadata": {},
   "outputs": [
    {
     "data": {
      "text/plain": [
       "tensor([ 7, 26, 13,  ..., 39, 50,  7])"
      ]
     },
     "execution_count": 91,
     "metadata": {},
     "output_type": "execute_result"
    }
   ],
   "source": [
    "item_seq_len  # torch.Size([2048])"
   ]
  },
  {
   "cell_type": "code",
   "execution_count": 92,
   "id": "0bb82619",
   "metadata": {},
   "outputs": [
    {
     "data": {
      "text/plain": [
       "tensor([ 0,  1,  2,  3,  4,  5,  6,  7,  8,  9, 10, 11, 12, 13, 14, 15, 16, 17,\n",
       "        18, 19, 20, 21, 22, 23, 24, 25, 26, 27, 28, 29, 30, 31, 32, 33, 34, 35,\n",
       "        36, 37, 38, 39, 40, 41, 42, 43, 44, 45, 46, 47, 48, 49])"
      ]
     },
     "execution_count": 92,
     "metadata": {},
     "output_type": "execute_result"
    }
   ],
   "source": [
    "# position embedding\n",
    "position_ids = torch.arange(item_seq.size(1), dtype=torch.long, device=item_seq.device)\n",
    "position_ids"
   ]
  },
  {
   "cell_type": "code",
   "execution_count": 93,
   "id": "96a7152e",
   "metadata": {},
   "outputs": [
    {
     "data": {
      "text/plain": [
       "tensor([[ 0,  1,  2,  ..., 47, 48, 49],\n",
       "        [ 0,  1,  2,  ..., 47, 48, 49],\n",
       "        [ 0,  1,  2,  ..., 47, 48, 49],\n",
       "        ...,\n",
       "        [ 0,  1,  2,  ..., 47, 48, 49],\n",
       "        [ 0,  1,  2,  ..., 47, 48, 49],\n",
       "        [ 0,  1,  2,  ..., 47, 48, 49]])"
      ]
     },
     "execution_count": 93,
     "metadata": {},
     "output_type": "execute_result"
    }
   ],
   "source": [
    "position_ids = position_ids.unsqueeze(0).expand_as(item_seq)\n",
    "position_ids # torch.Size([2048, 50])"
   ]
  },
  {
   "cell_type": "code",
   "execution_count": 94,
   "id": "24ac9e42",
   "metadata": {
    "scrolled": true
   },
   "outputs": [
    {
     "data": {
      "text/plain": [
       "tensor([[[-1.0610,  0.7010,  0.6416,  ..., -0.7928,  0.8062, -0.3177],\n",
       "         [ 0.5872, -0.2535,  1.9429,  ..., -1.2097, -0.6269,  1.1606],\n",
       "         [ 0.3448,  0.5376,  0.1088,  ..., -0.1145,  1.7371, -0.4287],\n",
       "         ...,\n",
       "         [ 2.0024,  0.4427, -2.8852,  ..., -0.6050, -1.1739, -1.0572],\n",
       "         [ 0.7639, -0.5226, -0.0133,  ...,  2.9485,  1.1592, -1.6099],\n",
       "         [ 0.5125, -1.0425, -0.3926,  ..., -1.2527,  0.7545, -0.7830]],\n",
       "\n",
       "        [[-1.0610,  0.7010,  0.6416,  ..., -0.7928,  0.8062, -0.3177],\n",
       "         [ 0.5872, -0.2535,  1.9429,  ..., -1.2097, -0.6269,  1.1606],\n",
       "         [ 0.3448,  0.5376,  0.1088,  ..., -0.1145,  1.7371, -0.4287],\n",
       "         ...,\n",
       "         [ 2.0024,  0.4427, -2.8852,  ..., -0.6050, -1.1739, -1.0572],\n",
       "         [ 0.7639, -0.5226, -0.0133,  ...,  2.9485,  1.1592, -1.6099],\n",
       "         [ 0.5125, -1.0425, -0.3926,  ..., -1.2527,  0.7545, -0.7830]],\n",
       "\n",
       "        [[-1.0610,  0.7010,  0.6416,  ..., -0.7928,  0.8062, -0.3177],\n",
       "         [ 0.5872, -0.2535,  1.9429,  ..., -1.2097, -0.6269,  1.1606],\n",
       "         [ 0.3448,  0.5376,  0.1088,  ..., -0.1145,  1.7371, -0.4287],\n",
       "         ...,\n",
       "         [ 2.0024,  0.4427, -2.8852,  ..., -0.6050, -1.1739, -1.0572],\n",
       "         [ 0.7639, -0.5226, -0.0133,  ...,  2.9485,  1.1592, -1.6099],\n",
       "         [ 0.5125, -1.0425, -0.3926,  ..., -1.2527,  0.7545, -0.7830]],\n",
       "\n",
       "        ...,\n",
       "\n",
       "        [[-1.0610,  0.7010,  0.6416,  ..., -0.7928,  0.8062, -0.3177],\n",
       "         [ 0.5872, -0.2535,  1.9429,  ..., -1.2097, -0.6269,  1.1606],\n",
       "         [ 0.3448,  0.5376,  0.1088,  ..., -0.1145,  1.7371, -0.4287],\n",
       "         ...,\n",
       "         [ 2.0024,  0.4427, -2.8852,  ..., -0.6050, -1.1739, -1.0572],\n",
       "         [ 0.7639, -0.5226, -0.0133,  ...,  2.9485,  1.1592, -1.6099],\n",
       "         [ 0.5125, -1.0425, -0.3926,  ..., -1.2527,  0.7545, -0.7830]],\n",
       "\n",
       "        [[-1.0610,  0.7010,  0.6416,  ..., -0.7928,  0.8062, -0.3177],\n",
       "         [ 0.5872, -0.2535,  1.9429,  ..., -1.2097, -0.6269,  1.1606],\n",
       "         [ 0.3448,  0.5376,  0.1088,  ..., -0.1145,  1.7371, -0.4287],\n",
       "         ...,\n",
       "         [ 2.0024,  0.4427, -2.8852,  ..., -0.6050, -1.1739, -1.0572],\n",
       "         [ 0.7639, -0.5226, -0.0133,  ...,  2.9485,  1.1592, -1.6099],\n",
       "         [ 0.5125, -1.0425, -0.3926,  ..., -1.2527,  0.7545, -0.7830]],\n",
       "\n",
       "        [[-1.0610,  0.7010,  0.6416,  ..., -0.7928,  0.8062, -0.3177],\n",
       "         [ 0.5872, -0.2535,  1.9429,  ..., -1.2097, -0.6269,  1.1606],\n",
       "         [ 0.3448,  0.5376,  0.1088,  ..., -0.1145,  1.7371, -0.4287],\n",
       "         ...,\n",
       "         [ 2.0024,  0.4427, -2.8852,  ..., -0.6050, -1.1739, -1.0572],\n",
       "         [ 0.7639, -0.5226, -0.0133,  ...,  2.9485,  1.1592, -1.6099],\n",
       "         [ 0.5125, -1.0425, -0.3926,  ..., -1.2527,  0.7545, -0.7830]]],\n",
       "       grad_fn=<EmbeddingBackward0>)"
      ]
     },
     "execution_count": 94,
     "metadata": {},
     "output_type": "execute_result"
    }
   ],
   "source": [
    "position_embedding = position_embedding(position_ids)  # torch.Size([2048, 50, 64])\n",
    "position_embedding"
   ]
  },
  {
   "cell_type": "code",
   "execution_count": 95,
   "id": "684b1b55",
   "metadata": {
    "scrolled": true
   },
   "outputs": [
    {
     "data": {
      "text/plain": [
       "tensor([[[ 0.1566,  2.0786, -0.7558,  ..., -0.9101, -1.1035, -0.8909],\n",
       "         [ 0.1575,  0.9807, -1.1420,  ...,  0.7688,  2.7504, -1.3609],\n",
       "         [ 2.6329, -0.1111,  0.0744,  ...,  0.8742,  0.9130, -1.4624],\n",
       "         ...,\n",
       "         [ 0.0000,  0.0000,  0.0000,  ...,  0.0000,  0.0000,  0.0000],\n",
       "         [ 0.0000,  0.0000,  0.0000,  ...,  0.0000,  0.0000,  0.0000],\n",
       "         [ 0.0000,  0.0000,  0.0000,  ...,  0.0000,  0.0000,  0.0000]],\n",
       "\n",
       "        [[ 1.0580,  1.6544, -0.6199,  ..., -0.8722,  0.7732,  1.0439],\n",
       "         [ 1.0580,  1.6544, -0.6199,  ..., -0.8722,  0.7732,  1.0439],\n",
       "         [-0.5823,  0.1025, -0.4682,  ..., -0.2208,  0.8470,  0.3129],\n",
       "         ...,\n",
       "         [ 0.0000,  0.0000,  0.0000,  ...,  0.0000,  0.0000,  0.0000],\n",
       "         [ 0.0000,  0.0000,  0.0000,  ...,  0.0000,  0.0000,  0.0000],\n",
       "         [ 0.0000,  0.0000,  0.0000,  ...,  0.0000,  0.0000,  0.0000]],\n",
       "\n",
       "        [[-0.9888,  0.7075, -0.5806,  ..., -1.0873,  0.6825, -0.0437],\n",
       "         [-1.4592, -0.7915,  0.6010,  ..., -1.3629, -0.4250, -0.1994],\n",
       "         [-0.3559, -0.7371, -0.2409,  ..., -0.4201, -0.3751,  1.3369],\n",
       "         ...,\n",
       "         [ 0.0000,  0.0000,  0.0000,  ...,  0.0000,  0.0000,  0.0000],\n",
       "         [ 0.0000,  0.0000,  0.0000,  ...,  0.0000,  0.0000,  0.0000],\n",
       "         [ 0.0000,  0.0000,  0.0000,  ...,  0.0000,  0.0000,  0.0000]],\n",
       "\n",
       "        ...,\n",
       "\n",
       "        [[-1.2621,  0.4584,  1.0927,  ..., -0.7379,  0.8998,  0.7234],\n",
       "         [ 1.1782, -0.5397,  1.4351,  ...,  0.4878,  0.2626,  0.5925],\n",
       "         [-1.8489,  0.4638, -0.2276,  ...,  0.0056,  0.1503,  0.0848],\n",
       "         ...,\n",
       "         [ 0.0000,  0.0000,  0.0000,  ...,  0.0000,  0.0000,  0.0000],\n",
       "         [ 0.0000,  0.0000,  0.0000,  ...,  0.0000,  0.0000,  0.0000],\n",
       "         [ 0.0000,  0.0000,  0.0000,  ...,  0.0000,  0.0000,  0.0000]],\n",
       "\n",
       "        [[ 0.2173, -0.1227,  0.3697,  ..., -0.7216,  0.9772,  0.6661],\n",
       "         [-0.9012, -0.1951,  0.0941,  ..., -0.2366,  0.3486,  0.4569],\n",
       "         [-0.9012, -0.1951,  0.0941,  ..., -0.2366,  0.3486,  0.4569],\n",
       "         ...,\n",
       "         [ 0.7857,  1.3021, -0.7864,  ...,  0.2501,  0.6782,  0.7888],\n",
       "         [-0.4716,  0.9669,  1.0708,  ...,  0.5365, -0.4017, -1.2881],\n",
       "         [-0.3559, -0.7371, -0.2409,  ..., -0.4201, -0.3751,  1.3369]],\n",
       "\n",
       "        [[ 0.9505, -1.3731, -1.8346,  ...,  0.5471, -0.3699, -1.1187],\n",
       "         [-1.4576,  1.3633,  0.5688,  ..., -0.4577, -0.2443, -0.6946],\n",
       "         [ 0.2668, -0.3380, -1.2242,  ..., -0.5626, -0.5130, -1.5099],\n",
       "         ...,\n",
       "         [ 0.0000,  0.0000,  0.0000,  ...,  0.0000,  0.0000,  0.0000],\n",
       "         [ 0.0000,  0.0000,  0.0000,  ...,  0.0000,  0.0000,  0.0000],\n",
       "         [ 0.0000,  0.0000,  0.0000,  ...,  0.0000,  0.0000,  0.0000]]],\n",
       "       grad_fn=<EmbeddingBackward0>)"
      ]
     },
     "execution_count": 95,
     "metadata": {},
     "output_type": "execute_result"
    }
   ],
   "source": [
    "# item embedding\n",
    "item_emb = item_embedding(item_seq) # torch.Size([2048, 50, 64])\n",
    "item_emb"
   ]
  },
  {
   "cell_type": "code",
   "execution_count": 96,
   "id": "33f943e7",
   "metadata": {
    "scrolled": true
   },
   "outputs": [
    {
     "data": {
      "text/plain": [
       "tensor([[[-9.0440e-01,  2.7796e+00, -1.1417e-01,  ..., -1.7029e+00,\n",
       "          -2.9731e-01, -1.2085e+00],\n",
       "         [ 7.4470e-01,  7.2728e-01,  8.0088e-01,  ..., -4.4086e-01,\n",
       "           2.1235e+00, -2.0031e-01],\n",
       "         [ 2.9777e+00,  4.2658e-01,  1.8320e-01,  ...,  7.5976e-01,\n",
       "           2.6502e+00, -1.8911e+00],\n",
       "         ...,\n",
       "         [ 2.0024e+00,  4.4273e-01, -2.8852e+00,  ..., -6.0500e-01,\n",
       "          -1.1739e+00, -1.0572e+00],\n",
       "         [ 7.6392e-01, -5.2264e-01, -1.3283e-02,  ...,  2.9485e+00,\n",
       "           1.1592e+00, -1.6099e+00],\n",
       "         [ 5.1248e-01, -1.0425e+00, -3.9259e-01,  ..., -1.2527e+00,\n",
       "           7.5450e-01, -7.8300e-01]],\n",
       "\n",
       "        [[-3.0210e-03,  2.3554e+00,  2.1682e-02,  ..., -1.6650e+00,\n",
       "           1.5794e+00,  7.2621e-01],\n",
       "         [ 1.6452e+00,  1.4009e+00,  1.3230e+00,  ..., -2.0819e+00,\n",
       "           1.4627e-01,  2.2044e+00],\n",
       "         [-2.3744e-01,  6.4011e-01, -3.5937e-01,  ..., -3.3532e-01,\n",
       "           2.5842e+00, -1.1579e-01],\n",
       "         ...,\n",
       "         [ 2.0024e+00,  4.4273e-01, -2.8852e+00,  ..., -6.0500e-01,\n",
       "          -1.1739e+00, -1.0572e+00],\n",
       "         [ 7.6392e-01, -5.2264e-01, -1.3283e-02,  ...,  2.9485e+00,\n",
       "           1.1592e+00, -1.6099e+00],\n",
       "         [ 5.1248e-01, -1.0425e+00, -3.9259e-01,  ..., -1.2527e+00,\n",
       "           7.5450e-01, -7.8300e-01]],\n",
       "\n",
       "        [[-2.0498e+00,  1.4086e+00,  6.1022e-02,  ..., -1.8801e+00,\n",
       "           1.4887e+00, -3.6132e-01],\n",
       "         [-8.7198e-01, -1.0450e+00,  2.5439e+00,  ..., -2.5726e+00,\n",
       "          -1.0520e+00,  9.6119e-01],\n",
       "         [-1.1032e-02, -1.9943e-01, -1.3205e-01,  ..., -5.3458e-01,\n",
       "           1.3620e+00,  9.0818e-01],\n",
       "         ...,\n",
       "         [ 2.0024e+00,  4.4273e-01, -2.8852e+00,  ..., -6.0500e-01,\n",
       "          -1.1739e+00, -1.0572e+00],\n",
       "         [ 7.6392e-01, -5.2264e-01, -1.3283e-02,  ...,  2.9485e+00,\n",
       "           1.1592e+00, -1.6099e+00],\n",
       "         [ 5.1248e-01, -1.0425e+00, -3.9259e-01,  ..., -1.2527e+00,\n",
       "           7.5450e-01, -7.8300e-01]],\n",
       "\n",
       "        ...,\n",
       "\n",
       "        [[-2.3232e+00,  1.1595e+00,  1.7343e+00,  ..., -1.5307e+00,\n",
       "           1.7060e+00,  4.0579e-01],\n",
       "         [ 1.7654e+00, -7.9317e-01,  3.3780e+00,  ..., -7.2185e-01,\n",
       "          -3.6428e-01,  1.7530e+00],\n",
       "         [-1.5041e+00,  1.0014e+00, -1.1877e-01,  ..., -1.0891e-01,\n",
       "           1.8874e+00, -3.4389e-01],\n",
       "         ...,\n",
       "         [ 2.0024e+00,  4.4273e-01, -2.8852e+00,  ..., -6.0500e-01,\n",
       "          -1.1739e+00, -1.0572e+00],\n",
       "         [ 7.6392e-01, -5.2264e-01, -1.3283e-02,  ...,  2.9485e+00,\n",
       "           1.1592e+00, -1.6099e+00],\n",
       "         [ 5.1248e-01, -1.0425e+00, -3.9259e-01,  ..., -1.2527e+00,\n",
       "           7.5450e-01, -7.8300e-01]],\n",
       "\n",
       "        [[-8.4376e-01,  5.7836e-01,  1.0113e+00,  ..., -1.5144e+00,\n",
       "           1.7834e+00,  3.4846e-01],\n",
       "         [-3.1403e-01, -4.4861e-01,  2.0370e+00,  ..., -1.4463e+00,\n",
       "          -2.7835e-01,  1.6175e+00],\n",
       "         [-5.5641e-01,  3.4249e-01,  2.0292e-01,  ..., -3.5111e-01,\n",
       "           2.0857e+00,  2.8184e-02],\n",
       "         ...,\n",
       "         [ 2.7881e+00,  1.7448e+00, -3.6716e+00,  ..., -3.5489e-01,\n",
       "          -4.9575e-01, -2.6847e-01],\n",
       "         [ 2.9230e-01,  4.4426e-01,  1.0576e+00,  ...,  3.4850e+00,\n",
       "           7.5744e-01, -2.8980e+00],\n",
       "         [ 1.5660e-01, -1.7796e+00, -6.3348e-01,  ..., -1.6728e+00,\n",
       "           3.7939e-01,  5.5389e-01]],\n",
       "\n",
       "        [[-1.1055e-01, -6.7202e-01, -1.1930e+00,  ..., -2.4570e-01,\n",
       "           4.3630e-01, -1.4363e+00],\n",
       "         [-8.7034e-01,  1.1099e+00,  2.5117e+00,  ..., -1.6673e+00,\n",
       "          -8.7124e-01,  4.6598e-01],\n",
       "         [ 6.1165e-01,  1.9963e-01, -1.1154e+00,  ..., -6.7712e-01,\n",
       "           1.2241e+00, -1.9386e+00],\n",
       "         ...,\n",
       "         [ 2.0024e+00,  4.4273e-01, -2.8852e+00,  ..., -6.0500e-01,\n",
       "          -1.1739e+00, -1.0572e+00],\n",
       "         [ 7.6392e-01, -5.2264e-01, -1.3283e-02,  ...,  2.9485e+00,\n",
       "           1.1592e+00, -1.6099e+00],\n",
       "         [ 5.1248e-01, -1.0425e+00, -3.9259e-01,  ..., -1.2527e+00,\n",
       "           7.5450e-01, -7.8300e-01]]], grad_fn=<AddBackward0>)"
      ]
     },
     "execution_count": 96,
     "metadata": {},
     "output_type": "execute_result"
    }
   ],
   "source": [
    "input_emb = item_emb + position_embedding # torch.Size([2048, 50, 64])\n",
    "input_emb"
   ]
  },
  {
   "cell_type": "code",
   "execution_count": 97,
   "id": "fe97dab0",
   "metadata": {
    "scrolled": true
   },
   "outputs": [
    {
     "data": {
      "text/plain": [
       "tensor([[[-0.6764,  1.6598, -0.1753,  ..., -1.1828, -0.2914, -0.8693],\n",
       "         [ 0.2945,  0.2835,  0.3302,  ..., -0.4582,  1.1699, -0.3055],\n",
       "         [ 1.9766,  0.2752,  0.1129,  ...,  0.4974,  1.7582, -1.2706],\n",
       "         ...,\n",
       "         [ 2.1730,  0.6863, -2.4860,  ..., -0.3125, -0.8548, -0.7435],\n",
       "         [ 0.5228, -0.7121, -0.2232,  ...,  2.6197,  0.9022, -1.7557],\n",
       "         [ 0.5750, -1.0160, -0.3510,  ..., -1.2311,  0.8227, -0.7505]],\n",
       "\n",
       "        [[ 0.0265,  1.5997,  0.0430,  ..., -1.0821,  1.0820,  0.5129],\n",
       "         [ 1.1936,  1.0240,  0.9699,  ..., -1.3936,  0.1531,  1.5818],\n",
       "         [-0.3495,  0.2749, -0.4362,  ..., -0.4191,  1.6582, -0.2629],\n",
       "         ...,\n",
       "         [ 2.1730,  0.6863, -2.4860,  ..., -0.3125, -0.8548, -0.7435],\n",
       "         [ 0.5228, -0.7121, -0.2232,  ...,  2.6197,  0.9022, -1.7557],\n",
       "         [ 0.5750, -1.0160, -0.3510,  ..., -1.2311,  0.8227, -0.7505]],\n",
       "\n",
       "        [[-1.4086,  0.9057,  0.0040,  ..., -1.2950,  0.9594, -0.2787],\n",
       "         [-0.5764, -0.7015,  1.8930,  ..., -1.8059, -0.7065,  0.7488],\n",
       "         [-0.0080, -0.1342, -0.0890,  ..., -0.3587,  0.9117,  0.6077],\n",
       "         ...,\n",
       "         [ 2.1730,  0.6863, -2.4860,  ..., -0.3125, -0.8548, -0.7435],\n",
       "         [ 0.5228, -0.7121, -0.2232,  ...,  2.6197,  0.9022, -1.7557],\n",
       "         [ 0.5750, -1.0160, -0.3510,  ..., -1.2311,  0.8227, -0.7505]],\n",
       "\n",
       "        ...,\n",
       "\n",
       "        [[-1.6350,  0.7008,  1.0863,  ..., -1.1035,  1.0673,  0.1953],\n",
       "         [ 1.1750, -0.4824,  2.2195,  ..., -0.4362, -0.2045,  1.1669],\n",
       "         [-1.1256,  0.5253, -0.2128,  ..., -0.2063,  1.1091, -0.3611],\n",
       "         ...,\n",
       "         [ 2.1730,  0.6863, -2.4860,  ..., -0.3125, -0.8548, -0.7435],\n",
       "         [ 0.5228, -0.7121, -0.2232,  ...,  2.6197,  0.9022, -1.7557],\n",
       "         [ 0.5750, -1.0160, -0.3510,  ..., -1.2311,  0.8227, -0.7505]],\n",
       "\n",
       "        [[-0.6628,  0.2981,  0.5906,  ..., -1.1160,  1.1123,  0.1427],\n",
       "         [-0.2056, -0.2987,  1.4218,  ..., -0.9893, -0.1809,  1.1314],\n",
       "         [-0.3895,  0.1919,  0.1016,  ..., -0.2567,  1.3194, -0.0114],\n",
       "         ...,\n",
       "         [ 2.3070,  1.5702, -2.2553,  ...,  0.0872, -0.0122,  0.1483],\n",
       "         [ 0.0106,  0.1367,  0.6456,  ...,  2.6597,  0.3966, -2.6364],\n",
       "         [ 0.2089, -1.1523, -0.3465,  ..., -1.0772,  0.3655,  0.4882]],\n",
       "\n",
       "        [[-0.1844, -0.6053, -0.9959,  ..., -0.2857,  0.2255, -1.1783],\n",
       "         [-0.7686,  0.7680,  1.8558,  ..., -1.3870, -0.7693,  0.2684],\n",
       "         [ 0.4893,  0.2073, -0.6929,  ..., -0.3929,  0.9085, -1.2564],\n",
       "         ...,\n",
       "         [ 2.1730,  0.6863, -2.4860,  ..., -0.3125, -0.8548, -0.7435],\n",
       "         [ 0.5228, -0.7121, -0.2232,  ...,  2.6197,  0.9022, -1.7557],\n",
       "         [ 0.5750, -1.0160, -0.3510,  ..., -1.2311,  0.8227, -0.7505]]],\n",
       "       grad_fn=<NativeLayerNormBackward0>)"
      ]
     },
     "execution_count": 97,
     "metadata": {},
     "output_type": "execute_result"
    }
   ],
   "source": [
    "input_emb = LayerNorm(input_emb) # torch.Size([2048, 50, 64])\n",
    "input_emb"
   ]
  },
  {
   "cell_type": "code",
   "execution_count": 98,
   "id": "3092c619",
   "metadata": {},
   "outputs": [],
   "source": [
    "input_emb = dropout(input_emb) # torch.Size([2048, 50, 64])"
   ]
  },
  {
   "cell_type": "code",
   "execution_count": 99,
   "id": "6a2d0e8a",
   "metadata": {
    "scrolled": true
   },
   "outputs": [
    {
     "data": {
      "text/plain": [
       "tensor([[[-1.3528,  3.3195, -0.3506,  ..., -2.3655, -0.0000, -1.7385],\n",
       "         [ 0.0000,  0.0000,  0.0000,  ..., -0.9164,  2.3398, -0.0000],\n",
       "         [ 3.9532,  0.0000,  0.0000,  ...,  0.9948,  0.0000, -0.0000],\n",
       "         ...,\n",
       "         [ 0.0000,  1.3725, -0.0000,  ..., -0.0000, -0.0000, -1.4871],\n",
       "         [ 1.0456, -0.0000, -0.0000,  ...,  5.2393,  1.8044, -3.5114],\n",
       "         [ 0.0000, -2.0321, -0.7021,  ..., -2.4622,  0.0000, -0.0000]],\n",
       "\n",
       "        [[ 0.0000,  3.1994,  0.0860,  ..., -0.0000,  2.1641,  0.0000],\n",
       "         [ 0.0000,  0.0000,  0.0000,  ..., -0.0000,  0.0000,  0.0000],\n",
       "         [-0.6989,  0.5499, -0.8725,  ..., -0.0000,  3.3164, -0.0000],\n",
       "         ...,\n",
       "         [ 4.3460,  1.3725, -4.9720,  ..., -0.6249, -0.0000, -1.4871],\n",
       "         [ 0.0000, -1.4242, -0.4464,  ...,  0.0000,  1.8044, -0.0000],\n",
       "         [ 1.1500, -0.0000, -0.0000,  ..., -2.4622,  0.0000, -0.0000]],\n",
       "\n",
       "        [[-0.0000,  0.0000,  0.0000,  ..., -2.5900,  0.0000, -0.0000],\n",
       "         [-1.1529, -0.0000,  0.0000,  ..., -3.6117, -1.4131,  1.4977],\n",
       "         [-0.0159, -0.2683, -0.0000,  ..., -0.7173,  0.0000,  1.2155],\n",
       "         ...,\n",
       "         [ 0.0000,  1.3725, -4.9720,  ..., -0.6249, -1.7096, -1.4871],\n",
       "         [ 0.0000, -0.0000, -0.0000,  ...,  0.0000,  0.0000, -3.5114],\n",
       "         [ 0.0000, -0.0000, -0.0000,  ..., -0.0000,  0.0000, -0.0000]],\n",
       "\n",
       "        ...,\n",
       "\n",
       "        [[-0.0000,  0.0000,  2.1726,  ..., -0.0000,  0.0000,  0.3906],\n",
       "         [ 2.3499, -0.9647,  4.4391,  ..., -0.0000, -0.4091,  2.3339],\n",
       "         [-2.2512,  0.0000, -0.0000,  ..., -0.4126,  0.0000, -0.7222],\n",
       "         ...,\n",
       "         [ 0.0000,  0.0000, -4.9720,  ..., -0.6249, -0.0000, -0.0000],\n",
       "         [ 1.0456, -1.4242, -0.0000,  ...,  5.2393,  0.0000, -3.5114],\n",
       "         [ 1.1500, -2.0321, -0.0000,  ..., -0.0000,  1.6453, -1.5010]],\n",
       "\n",
       "        [[-1.3257,  0.0000,  1.1812,  ..., -0.0000,  0.0000,  0.2855],\n",
       "         [-0.0000, -0.0000,  2.8436,  ..., -1.9786, -0.0000,  0.0000],\n",
       "         [-0.0000,  0.3837,  0.2032,  ..., -0.5135,  0.0000, -0.0000],\n",
       "         ...,\n",
       "         [ 4.6141,  0.0000, -4.5105,  ...,  0.0000, -0.0000,  0.2965],\n",
       "         [ 0.0000,  0.0000,  0.0000,  ...,  5.3195,  0.7932, -0.0000],\n",
       "         [ 0.0000, -2.3045, -0.0000,  ..., -0.0000,  0.0000,  0.9764]],\n",
       "\n",
       "        [[-0.0000, -0.0000, -1.9918,  ..., -0.0000,  0.4510, -2.3566],\n",
       "         [-1.5371,  1.5361,  0.0000,  ..., -2.7741, -0.0000,  0.5368],\n",
       "         [ 0.9786,  0.4145, -0.0000,  ..., -0.7858,  1.8171, -0.0000],\n",
       "         ...,\n",
       "         [ 4.3460,  0.0000, -0.0000,  ..., -0.6249, -0.0000, -1.4871],\n",
       "         [ 0.0000, -0.0000, -0.0000,  ...,  0.0000,  1.8044, -0.0000],\n",
       "         [ 0.0000, -0.0000, -0.7021,  ..., -0.0000,  1.6453, -1.5010]]],\n",
       "       grad_fn=<MulBackward0>)"
      ]
     },
     "execution_count": 99,
     "metadata": {},
     "output_type": "execute_result"
    }
   ],
   "source": [
    "input_emb"
   ]
  },
  {
   "cell_type": "code",
   "execution_count": 101,
   "id": "9201ce25",
   "metadata": {
    "scrolled": true
   },
   "outputs": [
    {
     "data": {
      "text/plain": [
       "tensor([[[[     0., -10000., -10000.,  ..., -10000., -10000., -10000.],\n",
       "          [     0.,      0., -10000.,  ..., -10000., -10000., -10000.],\n",
       "          [     0.,      0.,      0.,  ..., -10000., -10000., -10000.],\n",
       "          ...,\n",
       "          [     0.,      0.,      0.,  ..., -10000., -10000., -10000.],\n",
       "          [     0.,      0.,      0.,  ..., -10000., -10000., -10000.],\n",
       "          [     0.,      0.,      0.,  ..., -10000., -10000., -10000.]]],\n",
       "\n",
       "\n",
       "        [[[     0., -10000., -10000.,  ..., -10000., -10000., -10000.],\n",
       "          [     0.,      0., -10000.,  ..., -10000., -10000., -10000.],\n",
       "          [     0.,      0.,      0.,  ..., -10000., -10000., -10000.],\n",
       "          ...,\n",
       "          [     0.,      0.,      0.,  ..., -10000., -10000., -10000.],\n",
       "          [     0.,      0.,      0.,  ..., -10000., -10000., -10000.],\n",
       "          [     0.,      0.,      0.,  ..., -10000., -10000., -10000.]]],\n",
       "\n",
       "\n",
       "        [[[     0., -10000., -10000.,  ..., -10000., -10000., -10000.],\n",
       "          [     0.,      0., -10000.,  ..., -10000., -10000., -10000.],\n",
       "          [     0.,      0.,      0.,  ..., -10000., -10000., -10000.],\n",
       "          ...,\n",
       "          [     0.,      0.,      0.,  ..., -10000., -10000., -10000.],\n",
       "          [     0.,      0.,      0.,  ..., -10000., -10000., -10000.],\n",
       "          [     0.,      0.,      0.,  ..., -10000., -10000., -10000.]]],\n",
       "\n",
       "\n",
       "        ...,\n",
       "\n",
       "\n",
       "        [[[     0., -10000., -10000.,  ..., -10000., -10000., -10000.],\n",
       "          [     0.,      0., -10000.,  ..., -10000., -10000., -10000.],\n",
       "          [     0.,      0.,      0.,  ..., -10000., -10000., -10000.],\n",
       "          ...,\n",
       "          [     0.,      0.,      0.,  ..., -10000., -10000., -10000.],\n",
       "          [     0.,      0.,      0.,  ..., -10000., -10000., -10000.],\n",
       "          [     0.,      0.,      0.,  ..., -10000., -10000., -10000.]]],\n",
       "\n",
       "\n",
       "        [[[     0., -10000., -10000.,  ..., -10000., -10000., -10000.],\n",
       "          [     0.,      0., -10000.,  ..., -10000., -10000., -10000.],\n",
       "          [     0.,      0.,      0.,  ..., -10000., -10000., -10000.],\n",
       "          ...,\n",
       "          [     0.,      0.,      0.,  ...,      0., -10000., -10000.],\n",
       "          [     0.,      0.,      0.,  ...,      0.,      0., -10000.],\n",
       "          [     0.,      0.,      0.,  ...,      0.,      0.,      0.]]],\n",
       "\n",
       "\n",
       "        [[[     0., -10000., -10000.,  ..., -10000., -10000., -10000.],\n",
       "          [     0.,      0., -10000.,  ..., -10000., -10000., -10000.],\n",
       "          [     0.,      0.,      0.,  ..., -10000., -10000., -10000.],\n",
       "          ...,\n",
       "          [     0.,      0.,      0.,  ..., -10000., -10000., -10000.],\n",
       "          [     0.,      0.,      0.,  ..., -10000., -10000., -10000.],\n",
       "          [     0.,      0.,      0.,  ..., -10000., -10000., -10000.]]]])"
      ]
     },
     "execution_count": 101,
     "metadata": {},
     "output_type": "execute_result"
    }
   ],
   "source": [
    "# attention mask \n",
    "# extended_attention_mask = get_attention_mask(item_seq) # torch.Size([2048, 1, 50, 50]) SequentialRecommender class method\n",
    "extended_attention_mask"
   ]
  },
  {
   "cell_type": "code",
   "execution_count": 102,
   "id": "9dcca940",
   "metadata": {},
   "outputs": [],
   "source": [
    "# transformer \n",
    "trm_output = trm_encoder(input_emb, extended_attention_mask, output_all_encoded_layers=True) # list type "
   ]
  },
  {
   "cell_type": "code",
   "execution_count": 103,
   "id": "2c602d1c",
   "metadata": {},
   "outputs": [
    {
     "data": {
      "text/plain": [
       "2"
      ]
     },
     "execution_count": 103,
     "metadata": {},
     "output_type": "execute_result"
    }
   ],
   "source": [
    "len(trm_output)"
   ]
  },
  {
   "cell_type": "code",
   "execution_count": 111,
   "id": "8ddc891c",
   "metadata": {},
   "outputs": [],
   "source": [
    "# output \n",
    "def gather_indexes(output, gather_index):\n",
    "    \"\"\"Gathers the vectors at the specific positions over a minibatch\"\"\"\n",
    "    gather_index = gather_index.view(-1, 1, 1).expand(-1, -1, output.shape[-1])\n",
    "    output_tensor = output.gather(dim=1, index=gather_index)\n",
    "    return output_tensor.squeeze(1)\n",
    "\n",
    "output = trm_output[-1] # torch.Size([2048, 50, 64])\n",
    "seq_output = gather_indexes(output, item_seq_len - 1) # torch.Size([2048, 64]), SequentialRecommender class method"
   ]
  },
  {
   "cell_type": "code",
   "execution_count": 112,
   "id": "72f380e0",
   "metadata": {},
   "outputs": [
    {
     "data": {
      "text/plain": [
       "tensor([[ 8.6012e-01, -1.2727e+00, -1.2384e+00,  ...,  3.8718e+00,\n",
       "         -1.2535e+00,  8.7892e-02],\n",
       "        [-4.2977e-01, -2.3387e-01,  7.4363e-04,  ...,  6.0760e-01,\n",
       "         -6.9100e-01, -3.4137e-01],\n",
       "        [-2.1680e-01,  2.3559e-01, -1.3083e+00,  ..., -7.8849e-01,\n",
       "         -5.5887e-01,  1.1869e-01],\n",
       "        ...,\n",
       "        [-1.2150e+00,  1.0782e+00,  1.6861e-01,  ...,  1.3196e-01,\n",
       "          1.6245e-01, -9.2410e-01],\n",
       "        [-6.1680e-01, -2.3221e+00, -8.1913e-01,  ...,  6.4681e-01,\n",
       "          2.0745e-01,  9.6178e-01],\n",
       "        [-3.2456e-02,  6.7374e-03,  7.8730e-01,  ...,  6.7374e-03,\n",
       "         -6.5916e-01, -1.6934e+00]], grad_fn=<SqueezeBackward1>)"
      ]
     },
     "execution_count": 112,
     "metadata": {},
     "output_type": "execute_result"
    }
   ],
   "source": [
    "seq_output"
   ]
  },
  {
   "cell_type": "code",
   "execution_count": null,
   "id": "1310b4f3",
   "metadata": {},
   "outputs": [],
   "source": []
  },
  {
   "cell_type": "markdown",
   "id": "f64459aa",
   "metadata": {},
   "source": [
    "```python\n",
    "    def calculate_loss(self, interaction):\n",
    "        item_seq = interaction[self.ITEM_SEQ]\n",
    "        item_seq_len = interaction[self.ITEM_SEQ_LEN]\n",
    "        seq_output = self.forward(item_seq, item_seq_len) # torch.Size([2048, 64])\n",
    "        pos_items = interaction[self.POS_ITEM_ID]\n",
    "        if self.loss_type == \"BPR\":\n",
    "            neg_items = interaction[self.NEG_ITEM_ID]\n",
    "            pos_items_emb = self.item_embedding(pos_items)\n",
    "            neg_items_emb = self.item_embedding(neg_items)\n",
    "            pos_score = torch.sum(seq_output * pos_items_emb, dim=-1)  # [B]\n",
    "            neg_score = torch.sum(seq_output * neg_items_emb, dim=-1)  # [B]\n",
    "            loss = self.loss_fct(pos_score, neg_score)\n",
    "            return loss\n",
    "        else:  # self.loss_type = 'CE'\n",
    "            test_item_emb = self.item_embedding.weight\n",
    "            logits = torch.matmul(seq_output, test_item_emb.transpose(0, 1))\n",
    "            loss = self.loss_fct(logits, pos_items)\n",
    "            return loss\n",
    "\n",
    "```"
   ]
  },
  {
   "cell_type": "code",
   "execution_count": 108,
   "id": "13a61f3d",
   "metadata": {},
   "outputs": [
    {
     "data": {
      "text/plain": [
       "The batch_size of interaction: 2048\n",
       "    user_id, torch.Size([2048]), cpu, torch.int64\n",
       "    item_id, torch.Size([2048]), cpu, torch.int64\n",
       "    timestamp, torch.Size([2048]), cpu, torch.float32\n",
       "    item_length, torch.Size([2048]), cpu, torch.int64\n",
       "    item_id_list, torch.Size([2048, 50]), cpu, torch.int64\n",
       "    timestamp_list, torch.Size([2048, 50]), cpu, torch.float32\n"
      ]
     },
     "execution_count": 108,
     "metadata": {},
     "output_type": "execute_result"
    }
   ],
   "source": [
    "interaction"
   ]
  },
  {
   "cell_type": "code",
   "execution_count": 109,
   "id": "396e9696",
   "metadata": {},
   "outputs": [],
   "source": [
    "item_seq = interaction[ITEM_SEQ]               # item_id_list\n",
    "item_seq_len = interaction[ITEM_SEQ_LEN]       # item_length\n",
    "# seq_output = forward(item_seq, item_seq_len) # torch.Size([2048, 64])"
   ]
  },
  {
   "cell_type": "code",
   "execution_count": 113,
   "id": "fa059acd",
   "metadata": {},
   "outputs": [
    {
     "data": {
      "text/plain": [
       "tensor([5693, 4209, 7263,  ...,  231, 1751, 7948])"
      ]
     },
     "execution_count": 113,
     "metadata": {},
     "output_type": "execute_result"
    }
   ],
   "source": [
    "pos_items = interaction[POS_ITEM_ID]           # item_id\n",
    "pos_items"
   ]
  },
  {
   "cell_type": "code",
   "execution_count": 114,
   "id": "caa264cc",
   "metadata": {},
   "outputs": [],
   "source": [
    "test_item_emb = item_embedding.weight                            # torch.Size([10962, 64])\n",
    "logits = torch.matmul(seq_output, test_item_emb.transpose(0, 1)) # torch.Size([2048, 10962])\n",
    "loss = loss_fct(logits, pos_items)                               # cross entropy loss 계산 "
   ]
  },
  {
   "cell_type": "code",
   "execution_count": 119,
   "id": "a68e94fc",
   "metadata": {},
   "outputs": [
    {
     "data": {
      "text/plain": [
       "tensor([[  0.0000,   7.8195,  12.4864,  ...,  -6.8107,  -8.3802,  -3.1315],\n",
       "        [  0.0000,  10.2997,  10.4677,  ..., -10.0674,  -6.6305,  11.4698],\n",
       "        [  0.0000,  -2.2264,   2.9740,  ...,  17.2065, -17.0866,  -6.0154],\n",
       "        ...,\n",
       "        [  0.0000,  20.3394,  -6.0659,  ...,  -7.1958,  -2.9323,  -4.6738],\n",
       "        [  0.0000,   1.5085,   3.9934,  ...,  10.7960,   0.5338,  12.6595],\n",
       "        [  0.0000,  -3.6514,  -1.3779,  ...,  -1.7112,   0.6026,   3.0346]],\n",
       "       grad_fn=<MmBackward0>)"
      ]
     },
     "execution_count": 119,
     "metadata": {},
     "output_type": "execute_result"
    }
   ],
   "source": [
    "logits"
   ]
  },
  {
   "cell_type": "code",
   "execution_count": 116,
   "id": "7f2f6a9d",
   "metadata": {},
   "outputs": [
    {
     "data": {
      "text/plain": [
       "tensor(29.0611, grad_fn=<NllLossBackward0>)"
      ]
     },
     "execution_count": 116,
     "metadata": {},
     "output_type": "execute_result"
    }
   ],
   "source": [
    "loss"
   ]
  },
  {
   "cell_type": "code",
   "execution_count": null,
   "id": "32c73381",
   "metadata": {},
   "outputs": [],
   "source": []
  },
  {
   "cell_type": "markdown",
   "id": "24e2358e",
   "metadata": {},
   "source": [
    "```python\n",
    "def predict(self, interaction):\n",
    "    item_seq = interaction[self.ITEM_SEQ]\n",
    "    item_seq_len = interaction[self.ITEM_SEQ_LEN]\n",
    "    test_item = interaction[self.ITEM_ID]\n",
    "    seq_output = self.forward(item_seq, item_seq_len)\n",
    "    test_item_emb = self.item_embedding(test_item)\n",
    "    scores = torch.mul(seq_output, test_item_emb).sum(dim=1)  # [B]\n",
    "    return scores\n",
    "\n",
    "def full_sort_predict(self, interaction):\n",
    "    item_seq = interaction[self.ITEM_SEQ]\n",
    "    item_seq_len = interaction[self.ITEM_SEQ_LEN]\n",
    "    seq_output = self.forward(item_seq, item_seq_len)\n",
    "    test_items_emb = self.item_embedding.weight\n",
    "    scores = torch.matmul(seq_output, test_items_emb.transpose(0, 1))  # [B n_items]\n",
    "    return scores\n",
    "\n",
    "```"
   ]
  },
  {
   "cell_type": "code",
   "execution_count": null,
   "id": "a938c77e",
   "metadata": {},
   "outputs": [],
   "source": []
  },
  {
   "cell_type": "code",
   "execution_count": null,
   "id": "a2462508",
   "metadata": {},
   "outputs": [],
   "source": []
  }
 ],
 "metadata": {
  "kernelspec": {
   "display_name": "Python 3 (ipykernel)",
   "language": "python",
   "name": "python3"
  },
  "language_info": {
   "codemirror_mode": {
    "name": "ipython",
    "version": 3
   },
   "file_extension": ".py",
   "mimetype": "text/x-python",
   "name": "python",
   "nbconvert_exporter": "python",
   "pygments_lexer": "ipython3",
   "version": "3.8.16"
  }
 },
 "nbformat": 4,
 "nbformat_minor": 5
}
