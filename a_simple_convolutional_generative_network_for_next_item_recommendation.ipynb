{
 "cells": [
  {
   "cell_type": "markdown",
   "id": "4e5b6975",
   "metadata": {},
   "source": [
    "# A Simple Convolutional Generative Network for Next Item Recommendation(NextItNet)\n",
    "\n"
   ]
  },
  {
   "cell_type": "markdown",
   "id": "e7853e0c",
   "metadata": {},
   "source": [
    "  "
   ]
  },
  {
   "cell_type": "markdown",
   "id": "47df2c4b",
   "metadata": {},
   "source": [
    "### class 관계\n",
    "\n",
    "* [AbstractRecommender](https://github.com/RUCAIBox/RecBole/blob/master/recbole/model/abstract_recommender.py#L25)  \n",
    "    * [SequentialRecommender](https://github.com/RUCAIBox/RecBole/blob/master/recbole/model/abstract_recommender.py#L146)\n",
    "        * [NextItNet](https://github.com/RUCAIBox/RecBole/blob/master/recbole/model/sequential_recommender/nextitnet.py)\n",
    "         \n",
    "                    \n"
   ]
  },
  {
   "cell_type": "markdown",
   "id": "882fd13e",
   "metadata": {},
   "source": [
    "### Recbole NextItNet 코드실행 예시([참고](https://github.com/RUCAIBox/RecBole/blob/master/recbole/model/sequential_recommender/nextitnet.py))\n",
    "\n",
    "    "
   ]
  },
  {
   "cell_type": "code",
   "execution_count": 1,
   "id": "c4109605",
   "metadata": {},
   "outputs": [],
   "source": [
    "# Recbole NetxItNet 코드실행 예시 \n",
    "\n",
    "# 1. config \n",
    "from recbole.config import Config\n",
    "parameter_dict = {\n",
    "    'data_path': './data',\n",
    "    'USER_ID_FIELD': 'user_id',\n",
    "    'ITEM_ID_FIELD': 'item_id',\n",
    "    'TIME_FIELD': 'timestamp',\n",
    "    'user_inter_num_interval': \"[30,inf)\",\n",
    "    'item_inter_num_interval': \"[40,inf)\",\n",
    "    'load_col': {'inter': ['user_id', 'item_id', 'timestamp']},\n",
    "    'train_neg_sample_args': None,\n",
    "    'epochs': 1,\n",
    "    'eval_args': {\n",
    "        'split': {'RS': [10, 0, 0]},\n",
    "        'group_by': 'user',\n",
    "        'order': 'TO',\n",
    "        'mode': 'full'}\n",
    "}\n",
    "config = Config(model='NextItNet', dataset='recbox_data', config_dict=parameter_dict) \n",
    "\n",
    "# 2. dataset \n",
    "from recbole.data import create_dataset, data_preparation\n",
    "dataset = create_dataset(config)\n",
    "train_data, valid_data, test_data = data_preparation(config, dataset)\n",
    "\n",
    "# 3. model\n",
    "from recbole.model.sequential_recommender import NextItNet\n",
    "model = NextItNet(config, train_data.dataset).to(config['device']) \n",
    "\n",
    "# # 4. training \n",
    "# from recbole.trainer import Trainer\n",
    "# trainer = Trainer(config, model)\n",
    "# best_valid_score, best_valid_result = trainer.fit(train_data)"
   ]
  },
  {
   "cell_type": "code",
   "execution_count": 2,
   "id": "ffe205f1",
   "metadata": {
    "scrolled": true
   },
   "outputs": [
    {
     "data": {
      "text/plain": [
       "NextItNet(\n",
       "  (item_embedding): Embedding(10962, 64, padding_idx=0)\n",
       "  (residual_blocks): Sequential(\n",
       "    (0): ResidualBlock_b(\n",
       "      (conv1): Conv2d(64, 64, kernel_size=(1, 3), stride=(1, 1))\n",
       "      (ln1): LayerNorm((64,), eps=1e-08, elementwise_affine=True)\n",
       "      (conv2): Conv2d(64, 64, kernel_size=(1, 3), stride=(1, 1), dilation=(2, 2))\n",
       "      (ln2): LayerNorm((64,), eps=1e-08, elementwise_affine=True)\n",
       "    )\n",
       "    (1): ResidualBlock_b(\n",
       "      (conv1): Conv2d(64, 64, kernel_size=(1, 3), stride=(1, 1), dilation=(4, 4))\n",
       "      (ln1): LayerNorm((64,), eps=1e-08, elementwise_affine=True)\n",
       "      (conv2): Conv2d(64, 64, kernel_size=(1, 3), stride=(1, 1), dilation=(8, 8))\n",
       "      (ln2): LayerNorm((64,), eps=1e-08, elementwise_affine=True)\n",
       "    )\n",
       "    (2): ResidualBlock_b(\n",
       "      (conv1): Conv2d(64, 64, kernel_size=(1, 3), stride=(1, 1))\n",
       "      (ln1): LayerNorm((64,), eps=1e-08, elementwise_affine=True)\n",
       "      (conv2): Conv2d(64, 64, kernel_size=(1, 3), stride=(1, 1), dilation=(2, 2))\n",
       "      (ln2): LayerNorm((64,), eps=1e-08, elementwise_affine=True)\n",
       "    )\n",
       "    (3): ResidualBlock_b(\n",
       "      (conv1): Conv2d(64, 64, kernel_size=(1, 3), stride=(1, 1), dilation=(4, 4))\n",
       "      (ln1): LayerNorm((64,), eps=1e-08, elementwise_affine=True)\n",
       "      (conv2): Conv2d(64, 64, kernel_size=(1, 3), stride=(1, 1), dilation=(8, 8))\n",
       "      (ln2): LayerNorm((64,), eps=1e-08, elementwise_affine=True)\n",
       "    )\n",
       "    (4): ResidualBlock_b(\n",
       "      (conv1): Conv2d(64, 64, kernel_size=(1, 3), stride=(1, 1))\n",
       "      (ln1): LayerNorm((64,), eps=1e-08, elementwise_affine=True)\n",
       "      (conv2): Conv2d(64, 64, kernel_size=(1, 3), stride=(1, 1), dilation=(2, 2))\n",
       "      (ln2): LayerNorm((64,), eps=1e-08, elementwise_affine=True)\n",
       "    )\n",
       "    (5): ResidualBlock_b(\n",
       "      (conv1): Conv2d(64, 64, kernel_size=(1, 3), stride=(1, 1), dilation=(4, 4))\n",
       "      (ln1): LayerNorm((64,), eps=1e-08, elementwise_affine=True)\n",
       "      (conv2): Conv2d(64, 64, kernel_size=(1, 3), stride=(1, 1), dilation=(8, 8))\n",
       "      (ln2): LayerNorm((64,), eps=1e-08, elementwise_affine=True)\n",
       "    )\n",
       "    (6): ResidualBlock_b(\n",
       "      (conv1): Conv2d(64, 64, kernel_size=(1, 3), stride=(1, 1))\n",
       "      (ln1): LayerNorm((64,), eps=1e-08, elementwise_affine=True)\n",
       "      (conv2): Conv2d(64, 64, kernel_size=(1, 3), stride=(1, 1), dilation=(2, 2))\n",
       "      (ln2): LayerNorm((64,), eps=1e-08, elementwise_affine=True)\n",
       "    )\n",
       "    (7): ResidualBlock_b(\n",
       "      (conv1): Conv2d(64, 64, kernel_size=(1, 3), stride=(1, 1), dilation=(4, 4))\n",
       "      (ln1): LayerNorm((64,), eps=1e-08, elementwise_affine=True)\n",
       "      (conv2): Conv2d(64, 64, kernel_size=(1, 3), stride=(1, 1), dilation=(8, 8))\n",
       "      (ln2): LayerNorm((64,), eps=1e-08, elementwise_affine=True)\n",
       "    )\n",
       "    (8): ResidualBlock_b(\n",
       "      (conv1): Conv2d(64, 64, kernel_size=(1, 3), stride=(1, 1))\n",
       "      (ln1): LayerNorm((64,), eps=1e-08, elementwise_affine=True)\n",
       "      (conv2): Conv2d(64, 64, kernel_size=(1, 3), stride=(1, 1), dilation=(2, 2))\n",
       "      (ln2): LayerNorm((64,), eps=1e-08, elementwise_affine=True)\n",
       "    )\n",
       "    (9): ResidualBlock_b(\n",
       "      (conv1): Conv2d(64, 64, kernel_size=(1, 3), stride=(1, 1), dilation=(4, 4))\n",
       "      (ln1): LayerNorm((64,), eps=1e-08, elementwise_affine=True)\n",
       "      (conv2): Conv2d(64, 64, kernel_size=(1, 3), stride=(1, 1), dilation=(8, 8))\n",
       "      (ln2): LayerNorm((64,), eps=1e-08, elementwise_affine=True)\n",
       "    )\n",
       "  )\n",
       "  (final_layer): Linear(in_features=64, out_features=64, bias=True)\n",
       "  (loss_fct): CrossEntropyLoss()\n",
       "  (reg_loss): RegLoss()\n",
       ")"
      ]
     },
     "execution_count": 2,
     "metadata": {},
     "output_type": "execute_result"
    }
   ],
   "source": [
    "model"
   ]
  },
  {
   "cell_type": "code",
   "execution_count": null,
   "id": "0074b16c",
   "metadata": {},
   "outputs": [],
   "source": []
  },
  {
   "cell_type": "markdown",
   "id": "1ac3a8aa",
   "metadata": {},
   "source": [
    "### train data 예시([참고](https://github.com/RUCAIBox/RecBole/blob/master/recbole/trainer/trainer.py#L234))"
   ]
  },
  {
   "cell_type": "code",
   "execution_count": 3,
   "id": "6faccf3c",
   "metadata": {},
   "outputs": [],
   "source": [
    "for batch_idx, batch_data in enumerate(train_data):\n",
    "    batch_idx = batch_idx\n",
    "    interaction = batch_data\n",
    "    break\n",
    "\n",
    "USER_ID = 'user_id'\n",
    "POS_ITEM_ID = 'item_id'\n",
    "ITEM_SEQ = 'item_id_list'\n",
    "ITEM_SEQ_LEN = 'item_length'\n",
    "\n",
    "user_seq = interaction[USER_ID] \n",
    "item_seq = interaction[ITEM_SEQ]         \n",
    "item_seq_len = interaction[ITEM_SEQ_LEN] "
   ]
  },
  {
   "cell_type": "code",
   "execution_count": 4,
   "id": "59b92b16",
   "metadata": {},
   "outputs": [
    {
     "data": {
      "text/plain": [
       "tensor([ 8681,  4622, 22968,  ..., 30080, 19206,   759])"
      ]
     },
     "execution_count": 4,
     "metadata": {},
     "output_type": "execute_result"
    }
   ],
   "source": [
    "user_seq # torch.Size([2048])"
   ]
  },
  {
   "cell_type": "code",
   "execution_count": 5,
   "id": "cf6db6eb",
   "metadata": {},
   "outputs": [
    {
     "data": {
      "text/plain": [
       "tensor([[ 1868,   266,  2206,  ...,     0,     0,     0],\n",
       "        [ 2549,  2549,    60,  ...,     0,     0,     0],\n",
       "        [ 1017,   522,   265,  ...,     0,     0,     0],\n",
       "        ...,\n",
       "        [ 4208,   818,  6991,  ...,     0,     0,     0],\n",
       "        [ 3813,  4103,  4103,  ...,  9211, 10242,   265],\n",
       "        [  181,  1299,  1076,  ...,     0,     0,     0]])"
      ]
     },
     "execution_count": 5,
     "metadata": {},
     "output_type": "execute_result"
    }
   ],
   "source": [
    "item_seq # torch.Size([2048, 50])"
   ]
  },
  {
   "cell_type": "code",
   "execution_count": 6,
   "id": "27ef9b74",
   "metadata": {},
   "outputs": [
    {
     "data": {
      "text/plain": [
       "tensor([ 7, 26, 13,  ..., 39, 50,  7])"
      ]
     },
     "execution_count": 6,
     "metadata": {},
     "output_type": "execute_result"
    }
   ],
   "source": [
    "item_seq_len # torch.Size([2048])"
   ]
  },
  {
   "cell_type": "code",
   "execution_count": null,
   "id": "0c8196a1",
   "metadata": {},
   "outputs": [],
   "source": []
  },
  {
   "cell_type": "code",
   "execution_count": null,
   "id": "bb6bf184",
   "metadata": {},
   "outputs": [],
   "source": []
  },
  {
   "cell_type": "markdown",
   "id": "9eb6230e",
   "metadata": {},
   "source": [
    "* 유저 8681 학습데이터 예시"
   ]
  },
  {
   "cell_type": "code",
   "execution_count": 8,
   "id": "54fffc1d",
   "metadata": {},
   "outputs": [
    {
     "data": {
      "text/plain": [
       "The batch_size of interaction: 39\n",
       "    user_id, torch.Size([39]), cpu, torch.int64\n",
       "    item_id, torch.Size([39]), cpu, torch.int64\n",
       "    timestamp, torch.Size([39]), cpu, torch.float32\n",
       "    item_length, torch.Size([39]), cpu, torch.int64\n",
       "    item_id_list, torch.Size([39, 50]), cpu, torch.int64\n",
       "    timestamp_list, torch.Size([39, 50]), cpu, torch.float32\n"
      ]
     },
     "execution_count": 8,
     "metadata": {},
     "output_type": "execute_result"
    }
   ],
   "source": [
    "import numpy as np\n",
    "import pandas as pd\n",
    "\n",
    "uid = train_data.dataset.id2token(train_data.dataset.uid_field, [8681])[0]\n",
    "index = np.isin(train_data.dataset[train_data.dataset.uid_field].numpy(), 8681) \n",
    "\n",
    "user_interaction = train_data.dataset[index]\n",
    "user_interaction\n",
    "\n",
    "# df = pd.read_csv('./data/recbox_data/recbox_data.inter', sep='\\t')\n",
    "# ex = df[df['user_id:token'] == uid] # 유저 8681의 로그는 총 42개 (이중 39개가 train data로 사용)"
   ]
  },
  {
   "cell_type": "code",
   "execution_count": 11,
   "id": "745859ba",
   "metadata": {},
   "outputs": [
    {
     "data": {
      "text/plain": [
       "tensor([8681, 8681, 8681, 8681, 8681, 8681, 8681, 8681, 8681, 8681, 8681, 8681,\n",
       "        8681, 8681, 8681, 8681, 8681, 8681, 8681, 8681, 8681, 8681, 8681, 8681,\n",
       "        8681, 8681, 8681, 8681, 8681, 8681, 8681, 8681, 8681, 8681, 8681, 8681,\n",
       "        8681, 8681, 8681])"
      ]
     },
     "execution_count": 11,
     "metadata": {},
     "output_type": "execute_result"
    }
   ],
   "source": [
    "user_interaction[USER_ID] # torch.Size([39])"
   ]
  },
  {
   "cell_type": "code",
   "execution_count": 12,
   "id": "a8ec5d34",
   "metadata": {},
   "outputs": [
    {
     "data": {
      "text/plain": [
       "tensor([[1868,    0,    0,  ...,    0,    0,    0],\n",
       "        [1868,  266,    0,  ...,    0,    0,    0],\n",
       "        [1868,  266, 2206,  ...,    0,    0,    0],\n",
       "        ...,\n",
       "        [1868,  266, 2206,  ...,    0,    0,    0],\n",
       "        [1868,  266, 2206,  ...,    0,    0,    0],\n",
       "        [1868,  266, 2206,  ...,    0,    0,    0]])"
      ]
     },
     "execution_count": 12,
     "metadata": {},
     "output_type": "execute_result"
    }
   ],
   "source": [
    "# x\n",
    "user_interaction[ITEM_SEQ] # torch.Size([39, 50]) max sequence length = 50"
   ]
  },
  {
   "cell_type": "code",
   "execution_count": 13,
   "id": "35ba7737",
   "metadata": {},
   "outputs": [
    {
     "data": {
      "text/plain": [
       "tensor([ 1868,   266,  2206,  2488,   439,  6038,  5231,  5693,    39,  6429,\n",
       "         1234,  5944,  3629,   173,  8296,  7010,  6897,  6897,   106,  3858,\n",
       "         3858,  1196,   643,  5705,  4854,  7869,  8703,  3170,  9258,  9774,\n",
       "         9362, 10102, 10440, 10334,  8651, 10242,  6997, 10610, 10465,     0,\n",
       "            0,     0,     0,     0,     0,     0,     0,     0,     0,     0])"
      ]
     },
     "execution_count": 13,
     "metadata": {},
     "output_type": "execute_result"
    }
   ],
   "source": [
    "user_interaction[ITEM_SEQ][-1] "
   ]
  },
  {
   "cell_type": "code",
   "execution_count": 14,
   "id": "3871d799",
   "metadata": {},
   "outputs": [
    {
     "data": {
      "text/plain": [
       "tensor([  266,  2206,  2488,   439,  6038,  5231,  5693,    39,  6429,  1234,\n",
       "         5944,  3629,   173,  8296,  7010,  6897,  6897,   106,  3858,  3858,\n",
       "         1196,   643,  5705,  4854,  7869,  8703,  3170,  9258,  9774,  9362,\n",
       "        10102, 10440, 10334,  8651, 10242,  6997, 10610, 10465,  2939])"
      ]
     },
     "execution_count": 14,
     "metadata": {},
     "output_type": "execute_result"
    }
   ],
   "source": [
    "# y(label)\n",
    "user_interaction[POS_ITEM_ID] # torch.Size([39])"
   ]
  },
  {
   "cell_type": "code",
   "execution_count": 15,
   "id": "27e9db33",
   "metadata": {},
   "outputs": [
    {
     "data": {
      "text/plain": [
       "tensor([ 1,  2,  3,  4,  5,  6,  7,  8,  9, 10, 11, 12, 13, 14, 15, 16, 17, 18,\n",
       "        19, 20, 21, 22, 23, 24, 25, 26, 27, 28, 29, 30, 31, 32, 33, 34, 35, 36,\n",
       "        37, 38, 39])"
      ]
     },
     "execution_count": 15,
     "metadata": {},
     "output_type": "execute_result"
    }
   ],
   "source": [
    "user_interaction[ITEM_SEQ_LEN] # torch.Size([39])"
   ]
  },
  {
   "cell_type": "code",
   "execution_count": null,
   "id": "44d2319a",
   "metadata": {},
   "outputs": [],
   "source": []
  },
  {
   "cell_type": "markdown",
   "id": "a95a1a82",
   "metadata": {},
   "source": [
    "### SequentialRecommender class\n",
    "* [code](https://github.com/RUCAIBox/RecBole/blob/master/recbole/model/abstract_recommender.py#L146)"
   ]
  },
  {
   "cell_type": "code",
   "execution_count": 7,
   "id": "194d4dc5",
   "metadata": {},
   "outputs": [],
   "source": [
    "import torch\n",
    "import torch.nn as nn"
   ]
  },
  {
   "cell_type": "markdown",
   "id": "1dd7a9d7",
   "metadata": {},
   "source": [
    "```python\n",
    "class SequentialRecommender(AbstractRecommender):\n",
    "    \"\"\"\n",
    "    This is a abstract sequential recommender. All the sequential model should implement This class.\n",
    "    \"\"\"\n",
    "    type = ModelType.SEQUENTIAL\n",
    "\n",
    "    def __init__(self, config, dataset):\n",
    "            super(SequentialRecommender, self).__init__()\n",
    "\n",
    "            # load dataset info\n",
    "            self.USER_ID = config[\"USER_ID_FIELD\"]\n",
    "            self.ITEM_ID = config[\"ITEM_ID_FIELD\"]\n",
    "            self.ITEM_SEQ = self.ITEM_ID + config[\"LIST_SUFFIX\"]\n",
    "            self.ITEM_SEQ_LEN = config[\"ITEM_LIST_LENGTH_FIELD\"]\n",
    "            self.POS_ITEM_ID = self.ITEM_ID\n",
    "            self.NEG_ITEM_ID = config[\"NEG_PREFIX\"] + self.ITEM_ID\n",
    "            self.max_seq_length = config[\"MAX_ITEM_LIST_LENGTH\"]\n",
    "            self.n_items = dataset.num(self.ITEM_ID)\n",
    "\n",
    "            # load parameters info\n",
    "            self.device = config[\"device\"]\n",
    "```"
   ]
  },
  {
   "cell_type": "code",
   "execution_count": 8,
   "id": "24b0cccf",
   "metadata": {},
   "outputs": [
    {
     "name": "stdout",
     "output_type": "stream",
     "text": [
      "USER_ID: user_id\n",
      "ITEM_ID: item_id\n",
      "ITEM_SEQ: item_id_list\n",
      "ITEM_SEQ_LEN: item_length\n",
      "POS_ITEM_ID: item_id\n",
      "NEG_ITEM_ID: neg_item_id\n",
      "max_seq_length: 50\n",
      "n_items: 10962\n",
      "device: cpu\n"
     ]
    }
   ],
   "source": [
    "# load dataset info\n",
    "USER_ID = config[\"USER_ID_FIELD\"] \n",
    "ITEM_ID = config[\"ITEM_ID_FIELD\"]  \n",
    "ITEM_SEQ = ITEM_ID + config[\"LIST_SUFFIX\"]\n",
    "ITEM_SEQ_LEN = config[\"ITEM_LIST_LENGTH_FIELD\"]\n",
    "\n",
    "POS_ITEM_ID = ITEM_ID\n",
    "NEG_ITEM_ID = config[\"NEG_PREFIX\"] + ITEM_ID\n",
    "\n",
    "max_seq_length = config[\"MAX_ITEM_LIST_LENGTH\"]\n",
    "n_items = dataset.num(ITEM_ID)\n",
    "\n",
    "# load parameters info\n",
    "device = config[\"device\"]\n",
    "\n",
    "print('USER_ID:', USER_ID)\n",
    "print('ITEM_ID:', ITEM_ID)\n",
    "print('ITEM_SEQ:', ITEM_SEQ)\n",
    "print('ITEM_SEQ_LEN:', ITEM_SEQ_LEN)\n",
    "print('POS_ITEM_ID:', POS_ITEM_ID)\n",
    "print('NEG_ITEM_ID:', NEG_ITEM_ID)\n",
    "print('max_seq_length:', max_seq_length)\n",
    "print('n_items:', n_items)\n",
    "print('device:', device)"
   ]
  },
  {
   "cell_type": "code",
   "execution_count": null,
   "id": "40d46f8c",
   "metadata": {},
   "outputs": [],
   "source": []
  },
  {
   "cell_type": "markdown",
   "id": "d810fa82",
   "metadata": {},
   "source": [
    "```python\n",
    " def get_attention_mask(self, item_seq, bidirectional=False):\n",
    "        \"\"\"Generate left-to-right uni-directional or bidirectional attention mask for multi-head attention.\"\"\"\n",
    "        attention_mask = item_seq != 0\n",
    "        extended_attention_mask = attention_mask.unsqueeze(1).unsqueeze(2)  # torch.bool\n",
    "        if not bidirectional:\n",
    "            extended_attention_mask = torch.tril(\n",
    "                extended_attention_mask.expand((-1, -1, item_seq.size(-1), -1))\n",
    "            )\n",
    "        extended_attention_mask = torch.where(extended_attention_mask, 0.0, -10000.0)\n",
    "        return extended_attention_mask\n",
    "    \n",
    "```"
   ]
  },
  {
   "cell_type": "markdown",
   "id": "c028a248",
   "metadata": {},
   "source": [
    "```python\n",
    " def gather_indexes(self, output, gather_index):\n",
    "        \"\"\"Gathers the vectors at the specific positions over a minibatch\"\"\"\n",
    "        gather_index = gather_index.view(-1, 1, 1).expand(-1, -1, output.shape[-1])\n",
    "        output_tensor = output.gather(dim=1, index=gather_index)\n",
    "        return output_tensor.squeeze(1)\n",
    "```"
   ]
  },
  {
   "cell_type": "code",
   "execution_count": null,
   "id": "2409a5f0",
   "metadata": {},
   "outputs": [],
   "source": []
  },
  {
   "cell_type": "code",
   "execution_count": null,
   "id": "1a909bfa",
   "metadata": {},
   "outputs": [],
   "source": []
  },
  {
   "cell_type": "markdown",
   "id": "104d95f7",
   "metadata": {},
   "source": [
    "## NextItNet class\n",
    "\n",
    "* AbstractRecommender\n",
    "    * SequentialRecommender\n",
    "        * NextItNet\n",
    "            * ResidualBlock_a\n",
    "            * ResidualBlock_b"
   ]
  },
  {
   "cell_type": "markdown",
   "id": "fef7bb15",
   "metadata": {},
   "source": [
    "### ResisualBlock_b class "
   ]
  },
  {
   "cell_type": "markdown",
   "id": "c9779a8c",
   "metadata": {},
   "source": [
    "```python\n",
    "class ResidualBlock_b(nn.Module):\n",
    "    r\"\"\"\n",
    "    Residual block (b) in the paper\n",
    "    \"\"\"\n",
    "    def __init__(self, in_channel, out_channel, kernel_size=3, dilation=None):\n",
    "        super(ResidualBlock_b, self).__init__()\n",
    "\n",
    "        self.conv1 = nn.Conv2d(\n",
    "            in_channel,\n",
    "            out_channel,\n",
    "            kernel_size=(1, kernel_size),\n",
    "            padding=0,\n",
    "            dilation=dilation,\n",
    "        )\n",
    "        self.ln1 = nn.LayerNorm(out_channel, eps=1e-8)\n",
    "        self.conv2 = nn.Conv2d(\n",
    "            out_channel,\n",
    "            out_channel,\n",
    "            kernel_size=(1, kernel_size),\n",
    "            padding=0,\n",
    "            dilation=dilation * 2,\n",
    "        )\n",
    "        self.ln2 = nn.LayerNorm(out_channel, eps=1e-8)\n",
    "\n",
    "        self.dilation = dilation\n",
    "        self.kernel_size = kernel_size\n",
    "```"
   ]
  },
  {
   "cell_type": "code",
   "execution_count": 14,
   "id": "413c3202",
   "metadata": {},
   "outputs": [],
   "source": [
    "from torch.nn import functional as F\n",
    "\n",
    "in_channel = 64\n",
    "out_channel = 64\n",
    "kernel_size = 3\n",
    "dilation = 1\n",
    "\n",
    "\n",
    "# 커널(필터) 생성\n",
    "conv1 = nn.Conv2d(\n",
    "            in_channel,                   # 채널수\n",
    "            out_channel,                  # 필터수  \n",
    "            kernel_size=(1, kernel_size), # 필터사이즈 \n",
    "            padding=0,\n",
    "            dilation=dilation,\n",
    "        )"
   ]
  },
  {
   "cell_type": "code",
   "execution_count": 15,
   "id": "de803f69",
   "metadata": {},
   "outputs": [
    {
     "data": {
      "text/plain": [
       "Conv2d(64, 64, kernel_size=(1, 3), stride=(1, 1))"
      ]
     },
     "execution_count": 15,
     "metadata": {},
     "output_type": "execute_result"
    }
   ],
   "source": [
    "conv1"
   ]
  },
  {
   "cell_type": "code",
   "execution_count": 16,
   "id": "6ba6fb2e",
   "metadata": {},
   "outputs": [
    {
     "data": {
      "text/plain": [
       "torch.Size([64, 64, 1, 3])"
      ]
     },
     "execution_count": 16,
     "metadata": {},
     "output_type": "execute_result"
    }
   ],
   "source": [
    "conv1.weight.shape"
   ]
  },
  {
   "cell_type": "code",
   "execution_count": 13,
   "id": "06a463c6",
   "metadata": {},
   "outputs": [
    {
     "name": "stdout",
     "output_type": "stream",
     "text": [
      "torch.Size([2, 3, 5, 5])\n"
     ]
    }
   ],
   "source": [
    "# # 예시 \n",
    "# conv1 = nn.Conv2d(3, 2, kernel_size=5, stride=1)\n",
    "# print(conv1.weight.shape) # [필터수, 채널수(rgb), 필터사이즈]"
   ]
  },
  {
   "cell_type": "code",
   "execution_count": 17,
   "id": "ac681395",
   "metadata": {},
   "outputs": [
    {
     "data": {
      "text/plain": [
       "LayerNorm((64,), eps=1e-08, elementwise_affine=True)"
      ]
     },
     "execution_count": 17,
     "metadata": {},
     "output_type": "execute_result"
    }
   ],
   "source": [
    "ln1 = nn.LayerNorm(out_channel, eps=1e-8)\n",
    "ln1  "
   ]
  },
  {
   "cell_type": "code",
   "execution_count": 18,
   "id": "9242a558",
   "metadata": {},
   "outputs": [],
   "source": [
    "conv2 = nn.Conv2d(\n",
    "    out_channel,\n",
    "    out_channel,\n",
    "    kernel_size=(1, kernel_size),\n",
    "    padding=0,\n",
    "    dilation=dilation * 2,\n",
    ")\n"
   ]
  },
  {
   "cell_type": "code",
   "execution_count": 19,
   "id": "cde4bea8",
   "metadata": {},
   "outputs": [
    {
     "data": {
      "text/plain": [
       "torch.Size([64, 64, 1, 3])"
      ]
     },
     "execution_count": 19,
     "metadata": {},
     "output_type": "execute_result"
    }
   ],
   "source": [
    "conv2.weight.shape"
   ]
  },
  {
   "cell_type": "code",
   "execution_count": 20,
   "id": "78cbc110",
   "metadata": {},
   "outputs": [
    {
     "data": {
      "text/plain": [
       "LayerNorm((64,), eps=1e-08, elementwise_affine=True)"
      ]
     },
     "execution_count": 20,
     "metadata": {},
     "output_type": "execute_result"
    }
   ],
   "source": [
    "ln2 = nn.LayerNorm(out_channel, eps=1e-8)\n",
    "ln2"
   ]
  },
  {
   "cell_type": "code",
   "execution_count": null,
   "id": "5496bcbc",
   "metadata": {},
   "outputs": [],
   "source": []
  },
  {
   "cell_type": "markdown",
   "id": "9c167254",
   "metadata": {},
   "source": [
    "```python\n",
    "\n",
    "def forward(self, x):  # x: [batch_size, seq_len, embed_size]\n",
    "    x_pad = self.conv_pad(\n",
    "        x, self.dilation\n",
    "    )  # [batch_size, embed_size, 1, seq_len+(self.kernel_size-1)*dilations]\n",
    "    out = self.conv1(x_pad).squeeze(2).permute(0, 2, 1)\n",
    "    # [batch_size, seq_len+(self.kernel_size-1)*dilations-kernel_size+1, embed_size]\n",
    "    out = F.relu(self.ln1(out))\n",
    "    out_pad = self.conv_pad(out, self.dilation * 2)\n",
    "    out2 = self.conv2(out_pad).squeeze(2).permute(0, 2, 1)\n",
    "    out2 = F.relu(self.ln2(out2))\n",
    "    return out2 + x\n",
    "```"
   ]
  },
  {
   "cell_type": "code",
   "execution_count": 21,
   "id": "b0e8caa4",
   "metadata": {},
   "outputs": [],
   "source": [
    "def conv_pad(x, dilation):\n",
    "    r\"\"\"Dropout-mask: To avoid the future information leakage problem, this paper proposed a masking-based dropout\n",
    "    trick for the 1D dilated convolution to prevent the network from seeing the future items.\n",
    "    Also the One-dimensional transformation is completed in this function.\n",
    "    \"\"\"\n",
    "    kernel_size = 3\n",
    "    inputs_pad = x.permute(0, 2, 1)\n",
    "    inputs_pad = inputs_pad.unsqueeze(2)\n",
    "    pad = nn.ZeroPad2d(((kernel_size - 1) * dilation, 0, 0, 0))\n",
    "    inputs_pad = pad(inputs_pad)\n",
    "    return inputs_pad\n",
    "\n",
    "# input \n",
    "x = torch.rand([2048, 50, 64]) # [batch_size, seq_len, embed_size]\n",
    "x_pad = conv_pad(x, dilation)  # torch.Size([2048, 64, 1, 52])\n",
    "\n",
    "out = conv1(x_pad).squeeze(2).permute(0, 2, 1) # torch.Size([2048, 64, 1, 50]) -> torch.Size([2048, 64, 50]) -> torch.Size([2048, 50, 64])\n",
    "out = F.relu(ln1(out))                         # torch.Size([2048, 50, 64])\n"
   ]
  },
  {
   "cell_type": "code",
   "execution_count": 22,
   "id": "463ba761",
   "metadata": {},
   "outputs": [],
   "source": [
    "out_pad = conv_pad(out, dilation * 2)             # torch.Size([2048, 64, 1, 54])\n",
    "out2 = conv2(out_pad).squeeze(2).permute(0, 2, 1) # torch.Size([2048, 64, 1, 50]) -> torch.Size([2048, 64, 50]) -> torch.Size([2048, 50, 64])\n",
    "out2 = F.relu(ln2(out2))                          # torch.Size([2048, 50, 64])\n"
   ]
  },
  {
   "cell_type": "code",
   "execution_count": 23,
   "id": "eb4e01a2",
   "metadata": {},
   "outputs": [],
   "source": [
    "output = out2 + x # torch.Size([2048, 50, 64])"
   ]
  },
  {
   "cell_type": "code",
   "execution_count": null,
   "id": "28a9ab82",
   "metadata": {},
   "outputs": [],
   "source": []
  },
  {
   "cell_type": "code",
   "execution_count": null,
   "id": "d03445c4",
   "metadata": {},
   "outputs": [],
   "source": [
    "# # 참고 dilation = 4\n",
    "# dilation = 4\n",
    "\n",
    "# x = torch.rand([2048, 50, 64])\n",
    "# x_pad = conv_pad(x, dilation)                        # torch.Size([2048, 64, 1, 58])\n",
    "\n",
    "# out = rb[1].conv1(x_pad).squeeze(2).permute(0, 2, 1) # torch.Size([2048, 64, 1, 50]) -> torch.Size([2048, 64, 50]) -> torch.Size([2048, 50, 64])\n",
    "# out = F.relu(ln1(out))                               # torch.Size([2048, 50, 64])\n",
    "\n",
    "# out_pad = conv_pad(out, dilation * 2)                   # torch.Size([2048, 64, 1, 66])\n",
    "# out2 = rb[1].conv2(out_pad).squeeze(2).permute(0, 2, 1) # torch.Size([2048, 64, 1, 50]) -> torch.Size([2048, 64, 50]) -> torch.Size([2048, 50, 64])\n",
    "# out2 = F.relu(ln2(out2))                                # torch.Size([2048, 50, 64]) \n",
    "   \n",
    "# output = out2 + x # torch.Size([2048, 50, 64])"
   ]
  },
  {
   "cell_type": "code",
   "execution_count": null,
   "id": "f9ab98a5",
   "metadata": {},
   "outputs": [],
   "source": []
  },
  {
   "cell_type": "code",
   "execution_count": null,
   "id": "3b8fbb59",
   "metadata": {},
   "outputs": [],
   "source": []
  },
  {
   "cell_type": "markdown",
   "id": "9adfa25a",
   "metadata": {},
   "source": [
    "### NextItNet class"
   ]
  },
  {
   "cell_type": "code",
   "execution_count": 24,
   "id": "c92921e0",
   "metadata": {},
   "outputs": [],
   "source": [
    "import torch\n",
    "from torch import nn\n",
    "from torch.nn.init import normal_\n",
    "\n",
    "from recbole.model.abstract_recommender import SequentialRecommender\n",
    "from recbole.model.loss import RegLoss, BPRLoss"
   ]
  },
  {
   "cell_type": "markdown",
   "id": "cadaf968",
   "metadata": {},
   "source": [
    "```python\n",
    "\n",
    "class NextItNet(SequentialRecommender):\n",
    "    r\"\"\"The network architecture of the NextItNet model is formed of a stack of holed convolutional layers, which can\n",
    "    efficiently increase the receptive fields without relying on the pooling operation.\n",
    "    Also residual block structure is used to ease the optimization for much deeper networks.\n",
    "\n",
    "    Note:\n",
    "        As paper said, for comparison purpose, we only predict the next one item in our evaluation,\n",
    "        and then stop the generating process. Although the number of parameters in residual block (a) is less\n",
    "        than it in residual block (b), the performance of b is better than a.\n",
    "        So in our model, we use residual block (b).\n",
    "        In addition, when dilations is not equal to 1, the training may be slow. To  speed up the efficiency, please set the parameters \"reproducibility\" False.\n",
    "    \"\"\"\n",
    "\n",
    "     def __init__(self, config, dataset):\n",
    "            super(NextItNet, self).__init__(config, dataset)\n",
    "\n",
    "            # load parameters info\n",
    "            self.embedding_size = config[\"embedding_size\"]\n",
    "            self.residual_channels = config[\"embedding_size\"]\n",
    "            self.block_num = config[\"block_num\"]\n",
    "            self.dilations = config[\"dilations\"] * self.block_num\n",
    "            self.kernel_size = config[\"kernel_size\"]\n",
    "            self.reg_weight = config[\"reg_weight\"]\n",
    "            self.loss_type = config[\"loss_type\"]\n",
    "\n",
    "            # define layers and loss\n",
    "            self.item_embedding = nn.Embedding(\n",
    "                self.n_items, self.embedding_size, padding_idx=0\n",
    "            )\n",
    "\n",
    "            # residual blocks    dilations in blocks:[1,2,4,8,1,2,4,8,...]\n",
    "            rb = [\n",
    "                ResidualBlock_b(\n",
    "                    self.residual_channels,\n",
    "                    self.residual_channels,\n",
    "                    kernel_size=self.kernel_size,\n",
    "                    dilation=dilation,\n",
    "                )\n",
    "                for dilation in self.dilations\n",
    "            ]\n",
    "            self.residual_blocks = nn.Sequential(*rb)\n",
    "\n",
    "            # fully-connected layer\n",
    "            self.final_layer = nn.Linear(self.residual_channels, self.embedding_size)\n",
    "\n",
    "            if self.loss_type == \"BPR\":\n",
    "                self.loss_fct = BPRLoss()\n",
    "            elif self.loss_type == \"CE\":\n",
    "                self.loss_fct = nn.CrossEntropyLoss()\n",
    "            else:\n",
    "                raise NotImplementedError(\"Make sure 'loss_type' in ['BPR', 'CE']!\")\n",
    "            self.reg_loss = RegLoss()\n",
    "\n",
    "            # parameters initialization\n",
    "            self.apply(self._init_weights)\n",
    "\n",
    "```"
   ]
  },
  {
   "cell_type": "code",
   "execution_count": 25,
   "id": "c5ef2146",
   "metadata": {},
   "outputs": [],
   "source": [
    "# load parameters info\n",
    "embedding_size = config[\"embedding_size\"]    # 64\n",
    "residual_channels = config[\"embedding_size\"] # 64\n",
    "block_num = config[\"block_num\"]              # 5\n",
    "dilations = config[\"dilations\"] * block_num  # [1, 4, 1, 4, 1, 4, 1, 4, 1, 4]\n",
    "kernel_size = config[\"kernel_size\"]          # 3\n",
    "reg_weight = config[\"reg_weight\"]            # 1e-05\n",
    "loss_type = config[\"loss_type\"]              # 'CE'          \n",
    "\n",
    "reg_loss = RegLoss()"
   ]
  },
  {
   "cell_type": "code",
   "execution_count": 26,
   "id": "7b9013b6",
   "metadata": {},
   "outputs": [],
   "source": [
    "# define layers \n",
    "item_embedding = nn.Embedding(n_items, embedding_size, padding_idx=0) # (10962, 64)"
   ]
  },
  {
   "cell_type": "code",
   "execution_count": 27,
   "id": "916af69d",
   "metadata": {},
   "outputs": [],
   "source": [
    "from recbole.model.sequential_recommender.nextitnet import ResidualBlock_b\n",
    "\n",
    "# residual blocks    \n",
    "# dilations in blocks:[1,2,4,8,  1,2,4,8, 1,2,4,8,  1,2,4,8,  1,2,4,8]\n",
    "\n",
    "rb = [\n",
    "    ResidualBlock_b(\n",
    "      residual_channels,\n",
    "      residual_channels,\n",
    "      kernel_size=kernel_size,\n",
    "      dilation=dilation,\n",
    "    )\n",
    "    for dilation in dilations\n",
    "    ]\n",
    "\n",
    "residual_blocks = nn.Sequential(*rb)"
   ]
  },
  {
   "cell_type": "code",
   "execution_count": 28,
   "id": "7d429a73",
   "metadata": {
    "scrolled": true
   },
   "outputs": [
    {
     "data": {
      "text/plain": [
       "[ResidualBlock_b(\n",
       "   (conv1): Conv2d(64, 64, kernel_size=(1, 3), stride=(1, 1))\n",
       "   (ln1): LayerNorm((64,), eps=1e-08, elementwise_affine=True)\n",
       "   (conv2): Conv2d(64, 64, kernel_size=(1, 3), stride=(1, 1), dilation=(2, 2))\n",
       "   (ln2): LayerNorm((64,), eps=1e-08, elementwise_affine=True)\n",
       " ),\n",
       " ResidualBlock_b(\n",
       "   (conv1): Conv2d(64, 64, kernel_size=(1, 3), stride=(1, 1), dilation=(4, 4))\n",
       "   (ln1): LayerNorm((64,), eps=1e-08, elementwise_affine=True)\n",
       "   (conv2): Conv2d(64, 64, kernel_size=(1, 3), stride=(1, 1), dilation=(8, 8))\n",
       "   (ln2): LayerNorm((64,), eps=1e-08, elementwise_affine=True)\n",
       " ),\n",
       " ResidualBlock_b(\n",
       "   (conv1): Conv2d(64, 64, kernel_size=(1, 3), stride=(1, 1))\n",
       "   (ln1): LayerNorm((64,), eps=1e-08, elementwise_affine=True)\n",
       "   (conv2): Conv2d(64, 64, kernel_size=(1, 3), stride=(1, 1), dilation=(2, 2))\n",
       "   (ln2): LayerNorm((64,), eps=1e-08, elementwise_affine=True)\n",
       " ),\n",
       " ResidualBlock_b(\n",
       "   (conv1): Conv2d(64, 64, kernel_size=(1, 3), stride=(1, 1), dilation=(4, 4))\n",
       "   (ln1): LayerNorm((64,), eps=1e-08, elementwise_affine=True)\n",
       "   (conv2): Conv2d(64, 64, kernel_size=(1, 3), stride=(1, 1), dilation=(8, 8))\n",
       "   (ln2): LayerNorm((64,), eps=1e-08, elementwise_affine=True)\n",
       " ),\n",
       " ResidualBlock_b(\n",
       "   (conv1): Conv2d(64, 64, kernel_size=(1, 3), stride=(1, 1))\n",
       "   (ln1): LayerNorm((64,), eps=1e-08, elementwise_affine=True)\n",
       "   (conv2): Conv2d(64, 64, kernel_size=(1, 3), stride=(1, 1), dilation=(2, 2))\n",
       "   (ln2): LayerNorm((64,), eps=1e-08, elementwise_affine=True)\n",
       " ),\n",
       " ResidualBlock_b(\n",
       "   (conv1): Conv2d(64, 64, kernel_size=(1, 3), stride=(1, 1), dilation=(4, 4))\n",
       "   (ln1): LayerNorm((64,), eps=1e-08, elementwise_affine=True)\n",
       "   (conv2): Conv2d(64, 64, kernel_size=(1, 3), stride=(1, 1), dilation=(8, 8))\n",
       "   (ln2): LayerNorm((64,), eps=1e-08, elementwise_affine=True)\n",
       " ),\n",
       " ResidualBlock_b(\n",
       "   (conv1): Conv2d(64, 64, kernel_size=(1, 3), stride=(1, 1))\n",
       "   (ln1): LayerNorm((64,), eps=1e-08, elementwise_affine=True)\n",
       "   (conv2): Conv2d(64, 64, kernel_size=(1, 3), stride=(1, 1), dilation=(2, 2))\n",
       "   (ln2): LayerNorm((64,), eps=1e-08, elementwise_affine=True)\n",
       " ),\n",
       " ResidualBlock_b(\n",
       "   (conv1): Conv2d(64, 64, kernel_size=(1, 3), stride=(1, 1), dilation=(4, 4))\n",
       "   (ln1): LayerNorm((64,), eps=1e-08, elementwise_affine=True)\n",
       "   (conv2): Conv2d(64, 64, kernel_size=(1, 3), stride=(1, 1), dilation=(8, 8))\n",
       "   (ln2): LayerNorm((64,), eps=1e-08, elementwise_affine=True)\n",
       " ),\n",
       " ResidualBlock_b(\n",
       "   (conv1): Conv2d(64, 64, kernel_size=(1, 3), stride=(1, 1))\n",
       "   (ln1): LayerNorm((64,), eps=1e-08, elementwise_affine=True)\n",
       "   (conv2): Conv2d(64, 64, kernel_size=(1, 3), stride=(1, 1), dilation=(2, 2))\n",
       "   (ln2): LayerNorm((64,), eps=1e-08, elementwise_affine=True)\n",
       " ),\n",
       " ResidualBlock_b(\n",
       "   (conv1): Conv2d(64, 64, kernel_size=(1, 3), stride=(1, 1), dilation=(4, 4))\n",
       "   (ln1): LayerNorm((64,), eps=1e-08, elementwise_affine=True)\n",
       "   (conv2): Conv2d(64, 64, kernel_size=(1, 3), stride=(1, 1), dilation=(8, 8))\n",
       "   (ln2): LayerNorm((64,), eps=1e-08, elementwise_affine=True)\n",
       " )]"
      ]
     },
     "execution_count": 28,
     "metadata": {},
     "output_type": "execute_result"
    }
   ],
   "source": [
    "rb"
   ]
  },
  {
   "cell_type": "code",
   "execution_count": 29,
   "id": "1543a8b1",
   "metadata": {
    "scrolled": true
   },
   "outputs": [
    {
     "data": {
      "text/plain": [
       "Sequential(\n",
       "  (0): ResidualBlock_b(\n",
       "    (conv1): Conv2d(64, 64, kernel_size=(1, 3), stride=(1, 1))\n",
       "    (ln1): LayerNorm((64,), eps=1e-08, elementwise_affine=True)\n",
       "    (conv2): Conv2d(64, 64, kernel_size=(1, 3), stride=(1, 1), dilation=(2, 2))\n",
       "    (ln2): LayerNorm((64,), eps=1e-08, elementwise_affine=True)\n",
       "  )\n",
       "  (1): ResidualBlock_b(\n",
       "    (conv1): Conv2d(64, 64, kernel_size=(1, 3), stride=(1, 1), dilation=(4, 4))\n",
       "    (ln1): LayerNorm((64,), eps=1e-08, elementwise_affine=True)\n",
       "    (conv2): Conv2d(64, 64, kernel_size=(1, 3), stride=(1, 1), dilation=(8, 8))\n",
       "    (ln2): LayerNorm((64,), eps=1e-08, elementwise_affine=True)\n",
       "  )\n",
       "  (2): ResidualBlock_b(\n",
       "    (conv1): Conv2d(64, 64, kernel_size=(1, 3), stride=(1, 1))\n",
       "    (ln1): LayerNorm((64,), eps=1e-08, elementwise_affine=True)\n",
       "    (conv2): Conv2d(64, 64, kernel_size=(1, 3), stride=(1, 1), dilation=(2, 2))\n",
       "    (ln2): LayerNorm((64,), eps=1e-08, elementwise_affine=True)\n",
       "  )\n",
       "  (3): ResidualBlock_b(\n",
       "    (conv1): Conv2d(64, 64, kernel_size=(1, 3), stride=(1, 1), dilation=(4, 4))\n",
       "    (ln1): LayerNorm((64,), eps=1e-08, elementwise_affine=True)\n",
       "    (conv2): Conv2d(64, 64, kernel_size=(1, 3), stride=(1, 1), dilation=(8, 8))\n",
       "    (ln2): LayerNorm((64,), eps=1e-08, elementwise_affine=True)\n",
       "  )\n",
       "  (4): ResidualBlock_b(\n",
       "    (conv1): Conv2d(64, 64, kernel_size=(1, 3), stride=(1, 1))\n",
       "    (ln1): LayerNorm((64,), eps=1e-08, elementwise_affine=True)\n",
       "    (conv2): Conv2d(64, 64, kernel_size=(1, 3), stride=(1, 1), dilation=(2, 2))\n",
       "    (ln2): LayerNorm((64,), eps=1e-08, elementwise_affine=True)\n",
       "  )\n",
       "  (5): ResidualBlock_b(\n",
       "    (conv1): Conv2d(64, 64, kernel_size=(1, 3), stride=(1, 1), dilation=(4, 4))\n",
       "    (ln1): LayerNorm((64,), eps=1e-08, elementwise_affine=True)\n",
       "    (conv2): Conv2d(64, 64, kernel_size=(1, 3), stride=(1, 1), dilation=(8, 8))\n",
       "    (ln2): LayerNorm((64,), eps=1e-08, elementwise_affine=True)\n",
       "  )\n",
       "  (6): ResidualBlock_b(\n",
       "    (conv1): Conv2d(64, 64, kernel_size=(1, 3), stride=(1, 1))\n",
       "    (ln1): LayerNorm((64,), eps=1e-08, elementwise_affine=True)\n",
       "    (conv2): Conv2d(64, 64, kernel_size=(1, 3), stride=(1, 1), dilation=(2, 2))\n",
       "    (ln2): LayerNorm((64,), eps=1e-08, elementwise_affine=True)\n",
       "  )\n",
       "  (7): ResidualBlock_b(\n",
       "    (conv1): Conv2d(64, 64, kernel_size=(1, 3), stride=(1, 1), dilation=(4, 4))\n",
       "    (ln1): LayerNorm((64,), eps=1e-08, elementwise_affine=True)\n",
       "    (conv2): Conv2d(64, 64, kernel_size=(1, 3), stride=(1, 1), dilation=(8, 8))\n",
       "    (ln2): LayerNorm((64,), eps=1e-08, elementwise_affine=True)\n",
       "  )\n",
       "  (8): ResidualBlock_b(\n",
       "    (conv1): Conv2d(64, 64, kernel_size=(1, 3), stride=(1, 1))\n",
       "    (ln1): LayerNorm((64,), eps=1e-08, elementwise_affine=True)\n",
       "    (conv2): Conv2d(64, 64, kernel_size=(1, 3), stride=(1, 1), dilation=(2, 2))\n",
       "    (ln2): LayerNorm((64,), eps=1e-08, elementwise_affine=True)\n",
       "  )\n",
       "  (9): ResidualBlock_b(\n",
       "    (conv1): Conv2d(64, 64, kernel_size=(1, 3), stride=(1, 1), dilation=(4, 4))\n",
       "    (ln1): LayerNorm((64,), eps=1e-08, elementwise_affine=True)\n",
       "    (conv2): Conv2d(64, 64, kernel_size=(1, 3), stride=(1, 1), dilation=(8, 8))\n",
       "    (ln2): LayerNorm((64,), eps=1e-08, elementwise_affine=True)\n",
       "  )\n",
       ")"
      ]
     },
     "execution_count": 29,
     "metadata": {},
     "output_type": "execute_result"
    }
   ],
   "source": [
    "residual_blocks = nn.Sequential(*rb)\n",
    "residual_blocks"
   ]
  },
  {
   "cell_type": "code",
   "execution_count": 30,
   "id": "cfc8f6e3",
   "metadata": {},
   "outputs": [],
   "source": [
    "# fully-connected layer\n",
    "final_layer = nn.Linear(residual_channels, embedding_size) # 64, 64 "
   ]
  },
  {
   "cell_type": "code",
   "execution_count": 31,
   "id": "d6798f57",
   "metadata": {},
   "outputs": [],
   "source": [
    "# define loss\n",
    "loss_fct = nn.CrossEntropyLoss()"
   ]
  },
  {
   "cell_type": "code",
   "execution_count": null,
   "id": "725cbe97",
   "metadata": {},
   "outputs": [],
   "source": [
    "# parameters initialization\n",
    "apply(self._init_weights)\n",
    "\n",
    "# 해당 코드와 동일하게 작동\n",
    "# for submodule in model.children():\n",
    "#     _init_weights(submodule)"
   ]
  },
  {
   "cell_type": "code",
   "execution_count": null,
   "id": "ff5b844b",
   "metadata": {},
   "outputs": [],
   "source": []
  },
  {
   "cell_type": "markdown",
   "id": "766876c8",
   "metadata": {},
   "source": [
    "```python\n",
    "\n",
    "def forward(self, item_seq):\n",
    "    item_seq_emb = self.item_embedding(\n",
    "        item_seq\n",
    "    )  # [batch_size, seq_len, embed_size]\n",
    "    # Residual locks\n",
    "    dilate_outputs = self.residual_blocks(item_seq_emb)\n",
    "    hidden = dilate_outputs[:, -1, :].view(\n",
    "        -1, self.residual_channels\n",
    "    )  # [batch_size, embed_size]\n",
    "    seq_output = self.final_layer(hidden)  # [batch_size, embedding_size]\n",
    "    return seq_output\n",
    "\n",
    "\n",
    "```"
   ]
  },
  {
   "cell_type": "code",
   "execution_count": 32,
   "id": "69d7daca",
   "metadata": {},
   "outputs": [
    {
     "data": {
      "text/plain": [
       "torch.Size([2048, 50])"
      ]
     },
     "execution_count": 32,
     "metadata": {},
     "output_type": "execute_result"
    }
   ],
   "source": [
    "item_seq.shape"
   ]
  },
  {
   "cell_type": "code",
   "execution_count": 33,
   "id": "808fcd14",
   "metadata": {},
   "outputs": [],
   "source": [
    "item_seq_emb = item_embedding(item_seq) # torch.Size([2048, 50, 64])"
   ]
  },
  {
   "cell_type": "code",
   "execution_count": 34,
   "id": "5bedee2b",
   "metadata": {},
   "outputs": [],
   "source": [
    "# Residual locks\n",
    "dilate_outputs = residual_blocks(item_seq_emb) # torch.Size([2048, 50, 64])"
   ]
  },
  {
   "cell_type": "code",
   "execution_count": 35,
   "id": "cd3ddae5",
   "metadata": {},
   "outputs": [],
   "source": [
    "# 마지막 데이터 \n",
    "\n",
    "hidden = dilate_outputs[:, -1, :].view(-1, residual_channels)  # torch.Size([2048, 64])"
   ]
  },
  {
   "cell_type": "code",
   "execution_count": 36,
   "id": "356320c6",
   "metadata": {},
   "outputs": [],
   "source": [
    "seq_output = final_layer(hidden) # torch.Size([2048, 64])"
   ]
  },
  {
   "cell_type": "code",
   "execution_count": null,
   "id": "312aa757",
   "metadata": {},
   "outputs": [],
   "source": []
  },
  {
   "cell_type": "markdown",
   "id": "77de5d9a",
   "metadata": {},
   "source": [
    "```python \n",
    "def reg_loss_rb(self):\n",
    "    r\"\"\"\n",
    "    L2 loss on residual blocks\n",
    "    \"\"\"\n",
    "    loss_rb = 0\n",
    "    if self.reg_weight > 0.0:\n",
    "        for name, parm in self.residual_blocks.named_parameters():\n",
    "            if name.endswith(\"weight\"):\n",
    "                loss_rb += torch.norm(parm, 2)\n",
    "    return self.reg_weight * loss_rb\n",
    "\n",
    "```"
   ]
  },
  {
   "cell_type": "code",
   "execution_count": 37,
   "id": "0e7d1250",
   "metadata": {},
   "outputs": [],
   "source": [
    "loss_rb = 0\n",
    "for name, parm in residual_blocks.named_parameters():\n",
    "    if name.endswith(\"weight\"):\n",
    "        loss_rb += torch.norm(parm, 2) # l2 norm\n",
    "\n",
    "l2_loss = reg_weight * loss_rb"
   ]
  },
  {
   "cell_type": "code",
   "execution_count": null,
   "id": "dacd98d7",
   "metadata": {},
   "outputs": [],
   "source": []
  },
  {
   "cell_type": "markdown",
   "id": "891cfb31",
   "metadata": {},
   "source": [
    "```python\n",
    "def calculate_loss(self, interaction):\n",
    "        item_seq = interaction[self.ITEM_SEQ]\n",
    "        # item_seq_len = interaction[self.ITEM_SEQ_LEN]\n",
    "        seq_output = self.forward(item_seq)\n",
    "        pos_items = interaction[self.POS_ITEM_ID]\n",
    "        if self.loss_type == \"BPR\":\n",
    "            neg_items = interaction[self.NEG_ITEM_ID]\n",
    "            pos_items_emb = self.item_embedding(pos_items)\n",
    "            neg_items_emb = self.item_embedding(neg_items)\n",
    "            pos_score = torch.sum(seq_output * pos_items_emb, dim=-1)  # [B]\n",
    "            neg_score = torch.sum(seq_output * neg_items_emb, dim=-1)  # [B]\n",
    "            loss = self.loss_fct(pos_score, neg_score)\n",
    "        else:  # self.loss_type = 'CE'\n",
    "            test_item_emb = self.item_embedding.weight\n",
    "            logits = torch.matmul(seq_output, test_item_emb.transpose(0, 1))\n",
    "            loss = self.loss_fct(logits, pos_items)\n",
    "        reg_loss = self.reg_loss([self.item_embedding.weight, self.final_layer.weight])\n",
    "        loss = loss + self.reg_weight * reg_loss + self.reg_loss_rb()\n",
    "        return loss\n",
    "```"
   ]
  },
  {
   "cell_type": "code",
   "execution_count": 38,
   "id": "72e72704",
   "metadata": {},
   "outputs": [],
   "source": [
    "item_seq = interaction[ITEM_SEQ]\n",
    "seq_output = torch.rand([2048, 64])  # self.forward(item_seq)\n",
    "pos_items = interaction[POS_ITEM_ID] # torch.Size([2048])"
   ]
  },
  {
   "cell_type": "code",
   "execution_count": 39,
   "id": "abb15e91",
   "metadata": {},
   "outputs": [],
   "source": [
    "test_item_emb = item_embedding.weight                            # torch.Size([10962, 64])\n",
    "logits = torch.matmul(seq_output, test_item_emb.transpose(0, 1)) # torch.Size([2048, 10962])\n",
    "loss = loss_fct(logits, pos_items)                               # scalar "
   ]
  },
  {
   "cell_type": "code",
   "execution_count": 40,
   "id": "d25dd0bf",
   "metadata": {},
   "outputs": [
    {
     "data": {
      "text/plain": [
       "tensor(18.6099, grad_fn=<NllLossBackward0>)"
      ]
     },
     "execution_count": 40,
     "metadata": {},
     "output_type": "execute_result"
    }
   ],
   "source": [
    "loss"
   ]
  },
  {
   "cell_type": "code",
   "execution_count": 41,
   "id": "7aae5733",
   "metadata": {},
   "outputs": [],
   "source": [
    "reg_loss = reg_loss([item_embedding.weight, final_layer.weight])"
   ]
  },
  {
   "cell_type": "code",
   "execution_count": 42,
   "id": "dedc25dd",
   "metadata": {},
   "outputs": [
    {
     "data": {
      "text/plain": [
       "tensor(841.0498, grad_fn=<AddBackward0>)"
      ]
     },
     "execution_count": 42,
     "metadata": {},
     "output_type": "execute_result"
    }
   ],
   "source": [
    "reg_loss"
   ]
  },
  {
   "cell_type": "code",
   "execution_count": 43,
   "id": "56433d2b",
   "metadata": {},
   "outputs": [
    {
     "data": {
      "text/plain": [
       "tensor(18.6209, grad_fn=<AddBackward0>)"
      ]
     },
     "execution_count": 43,
     "metadata": {},
     "output_type": "execute_result"
    }
   ],
   "source": [
    "loss = loss + reg_weight * reg_loss + l2_loss\n",
    "loss"
   ]
  },
  {
   "cell_type": "code",
   "execution_count": null,
   "id": "66b8d1f4",
   "metadata": {},
   "outputs": [],
   "source": []
  },
  {
   "cell_type": "markdown",
   "id": "b6e596b5",
   "metadata": {},
   "source": [
    "```python\n",
    "\n",
    "def predict(self, interaction):\n",
    "    item_seq = interaction[self.ITEM_SEQ]\n",
    "    test_item = interaction[self.ITEM_ID]\n",
    "    seq_output = self.forward(item_seq)\n",
    "    test_item_emb = self.item_embedding(test_item)\n",
    "    scores = torch.mul(seq_output, test_item_emb).sum(dim=1)\n",
    "    return scores\n",
    "\n",
    "```"
   ]
  },
  {
   "cell_type": "code",
   "execution_count": 44,
   "id": "6767331c",
   "metadata": {},
   "outputs": [],
   "source": [
    "item_seq = interaction[ITEM_SEQ]\n",
    "# test_item = interaction[ITEM_ID]\n",
    "seq_output = torch.rand([2048, 64])  # self.forward(item_seq)"
   ]
  },
  {
   "cell_type": "code",
   "execution_count": 45,
   "id": "82456d8b",
   "metadata": {},
   "outputs": [],
   "source": [
    "test_item_emb = item_embedding.weight\n",
    "scores = torch.matmul(seq_output, test_item_emb.transpose(0, 1)) # scores.shape"
   ]
  },
  {
   "cell_type": "code",
   "execution_count": 46,
   "id": "85699b0f",
   "metadata": {},
   "outputs": [
    {
     "data": {
      "text/plain": [
       "tensor([[ 0.0000, -4.1369,  1.3202,  ..., -3.4493, -1.1543,  2.7742],\n",
       "        [ 0.0000, -5.8541, -2.3710,  ..., -1.0264, -7.8429,  7.3182],\n",
       "        [ 0.0000, -8.0782, -6.4184,  ..., -0.7839, -5.5299,  7.7951],\n",
       "        ...,\n",
       "        [ 0.0000, -4.0559,  2.8834,  ..., -3.8122,  2.7357,  7.6134],\n",
       "        [ 0.0000, -5.1901,  1.1562,  ..., -4.1311, -1.8685,  1.9412],\n",
       "        [ 0.0000, -1.5092, -0.0786,  ..., -1.5749, -4.1443,  1.6243]],\n",
       "       grad_fn=<MmBackward0>)"
      ]
     },
     "execution_count": 46,
     "metadata": {},
     "output_type": "execute_result"
    }
   ],
   "source": [
    "scores"
   ]
  },
  {
   "cell_type": "code",
   "execution_count": null,
   "id": "787a9b2a",
   "metadata": {},
   "outputs": [],
   "source": []
  },
  {
   "cell_type": "code",
   "execution_count": null,
   "id": "53ecda26",
   "metadata": {},
   "outputs": [],
   "source": []
  }
 ],
 "metadata": {
  "kernelspec": {
   "display_name": "Python 3 (ipykernel)",
   "language": "python",
   "name": "python3"
  },
  "language_info": {
   "codemirror_mode": {
    "name": "ipython",
    "version": 3
   },
   "file_extension": ".py",
   "mimetype": "text/x-python",
   "name": "python",
   "nbconvert_exporter": "python",
   "pygments_lexer": "ipython3",
   "version": "3.8.16"
  }
 },
 "nbformat": 4,
 "nbformat_minor": 5
}
